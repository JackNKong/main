{
 "cells": [
  {
   "cell_type": "code",
   "execution_count": 59,
   "metadata": {
    "collapsed": true
   },
   "outputs": [],
   "source": [
    "from selenium import webdriver\n",
    "from selenium.webdriver.common.keys import Keys\n",
    "from bs4 import BeautifulSoup\n",
    "\n",
    "import unittest, time, re\n",
    "import requests\n",
    "\n",
    "import lxml\n",
    "import requests\n"
   ]
  },
  {
   "cell_type": "code",
   "execution_count": 66,
   "metadata": {},
   "outputs": [],
   "source": [
    "def get_eminem_video_link(target_url):\n",
    "\n",
    "    response = requests.get(target_url)\n",
    "    soup = BeautifulSoup(response.text, \"lxml\")\n",
    "    lis = soup.find_all('ytd-compact-video-renderer', {'class' : 'style-scope ytd-watch-next-secondary-results-renderer use-ellipsis'})\n",
    "    print(len(lis))\n",
    "    return eminem_video_info\n",
    "\n",
    "eminem_video_info = {\n",
    "'title':'',\n",
    "'video_link':'',\n",
    "'img_link':'',\n",
    "'play_time':'',\n",
    "'hits' : '',\n",
    "'updated_time':''\n",
    "}\n"
   ]
  },
  {
   "cell_type": "code",
   "execution_count": 67,
   "metadata": {},
   "outputs": [
    {
     "name": "stdout",
     "output_type": "stream",
     "text": [
      "0\n"
     ]
    },
    {
     "data": {
      "text/plain": [
       "{'hits': '',\n",
       " 'img_link': '',\n",
       " 'play_time': '',\n",
       " 'title': '',\n",
       " 'updated_time': '',\n",
       " 'video_link': ''}"
      ]
     },
     "execution_count": 67,
     "metadata": {},
     "output_type": "execute_result"
    }
   ],
   "source": [
    "target_url = 'https://www.youtube.com/watch?v=FBvLyywAY6I&index=17&list=RDDGCjFB_mL6U'\n",
    "\n",
    "get_eminem_video_link(target_url)\n",
    "\n",
    "\n"
   ]
  },
  {
   "cell_type": "code",
   "execution_count": 26,
   "metadata": {},
   "outputs": [
    {
     "name": "stdout",
     "output_type": "stream",
     "text": [
      "0\n"
     ]
    }
   ],
   "source": [
    "url = target_url\n",
    "browser = webdriver.Chrome('C:/chromedriver.exe')\n",
    "browser.get(url)\n",
    "soup = BeautifulSoup((browser.page_source), \"lxml\") #url로부터 response를 끌고 와서 BeautifulSoup로 html 소스를 파싱\n",
    "\n",
    "#lis = soup.find_all('ytd-grid-video-renderer', {'class' : 'style-scope ytd-grid-renderer use-ellipsis'})\n",
    "\n",
    "#lis = soup.find_all('ytd-grid-video-renderer', {'class' : 'style-scope ytd-grid-renderer use-ellipsis'})\n",
    "#lis = soup.find_all('div', {'class' : 'style-scope ytd-grid-video-renderer'}) 한단계위\n",
    "lis = soup.find_all('li', {'class' : 'true'})\n",
    "#lis = soup.findall('div')\n",
    "\n",
    "\n",
    "\n",
    "#젤 아래\n",
    "browser.quit()\n",
    "print(len(lis))\n",
    "\n",
    "# 현재 브라우저의 위치를 표현하는 page_source를 가져 온다. \n",
    "# 이렇게 string을 가지고 BeautifulSoup과 같이 사용할 수도 있다.\n",
    "\n",
    "#soup = BeautifulSoup((browser.page_source), \"lxml\") #url로부터 response를 끌고 와서 BeautifulSoup로 html 소스를 파싱\n",
    "#print(soup)\n",
    "\n",
    "# 페이지의 맨 아래로 scroll하는 동작을 스크립트로 실행시킨다. 씨발 근데 왜 안돼 꺼져 그냥 주석으로\n",
    "#browser.execute_script(\"window.scrollTo(0, document.body.scrollHeight)\")"
   ]
  },
  {
   "cell_type": "code",
   "execution_count": 24,
   "metadata": {},
   "outputs": [
    {
     "name": "stdout",
     "output_type": "stream",
     "text": [
      "[<div class=\"news_comment\" id=\"focusComment\" name=\"focusComment\">\n",
      "<div id=\"cbox_module\"></div>\n",
      "<script type=\"text/javascript\">\n",
      "document.domain= 'naver.com';\n",
      "var isLoginForComment = false;\n",
      "if (jindo.$Cookie().get('NID_SES') != null &amp;&amp; jindo.$Cookie().get('NID_SES') != ''){\n",
      "\tisLoginForComment = true;\n",
      "}\n",
      "\n",
      "var sports = sports || {};\n",
      "sports.common = sports.common || {};\n",
      "sports.common.comment = sports.common.comment || {};\n",
      "\n",
      "sports.common.comment.init = function(options) {\n",
      "\twindow.__htCboxOption = options;\n",
      "\tvar s = document.createElement('script');\n",
      "\ts.type = 'text/javascript';\n",
      "\ts.charset = 'utf-8';\n",
      "\ts.src = options.sDomain + '/js/cbox.core.js?v=' + Math.floor(new Date().getTime());\n",
      "\t(document.head || document.getElementsByTagName(\"head\")[0]).appendChild(s);\n",
      "};\n",
      "\n",
      "sports.common.comment.options = {\n",
      "\tsDomain : 'https://ssl.pstatic.net/static.cbox',\n",
      "\tsApiDomain : 'https://apis.naver.com/commentBox/cbox2',\n",
      "\tbLogin : isLoginForComment,\n",
      "\tsTicket : 'sports',\n",
      "\tsTemplateId : 'view',\n",
      "\tsObjectId : 'news109,0003810930',\n",
      "\tsCategoryId : '',\n",
      "\tsLikeItId : 'ne_109_0003810930',\n",
      "\tsCategoryImage : '',\n",
      "\tsGroupId : '',\n",
      "\tsLanguage : 'ko',\n",
      "\tsCountry : 'KR',\n",
      "\tsPageType : 'more',\n",
      "\tsHelp : 'up',\n",
      "\tsSort : 'NEW',\n",
      "\tnPageSize : 20,\n",
      "\tnIndexSize : 10,\n",
      "\tnReplyPageSize : 20,\n",
      "\tsCssId : 'sports',\n",
      "\tbByCountry : false,\n",
      "\tbManager : false,\n",
      "\tsCommentNo : '',\n",
      "\tsCountType : 'comment',\n",
      "\thtMessage : {\n",
      "\t\tstats : {\n",
      "\t\t\ttitle : '누가 댓글을 썼을까요?'\n",
      "\t\t}\n",
      "\t},\n",
      "\tvWriterLinkHandler : function() {\n",
      "\t\tsports.common.comment.commentPopup('/comment/user.nhn', 'commonComment');\n",
      "\t}\n",
      "};\n",
      "\n",
      "sports.common.comment.commentPopup = function(url, name){\n",
      "\tvar height = 620;\n",
      "\tvar width = 600;\n",
      "\tif (window.screen.availHeight &lt; height) {\n",
      "\t\theight = window.screen.availHeight - 80;\n",
      "\t}\n",
      "\twindow.open(url, name, 'width=' + width + ',height=' + height );\n",
      "}\n",
      "</script>\n",
      "<script type=\"text/javascript\">\n",
      "\tsports.common.comment.options.sTemplateId = '';\n",
      "\tsports.common.comment.options.sCommentNo = '';\n",
      "\tsports.common.comment.options.sSort = '';\n",
      "\tsports.common.comment.options.nPageSize = 10;\n",
      "\tsports.common.comment.options.aFormation = ['count', 'graph', 'write', 'notice', 'list', 'view'];\n",
      "\tsports.common.comment.options.vViewAllHandler = function (oParam) {\n",
      "\t\tvar link = window.location.href.split(\"#\")[0];\n",
      "\t\tif (oParam.sort == 'BEST') {\n",
      "\t\t\twindow.location = link + '&amp;m_view=1&amp;sort=LIKE';\n",
      "\t\t} else {\n",
      "\t\t\twindow.location = link + '&amp;m_view=1&amp;sort=NEW';\n",
      "\t\t}\n",
      "\t};\n",
      "\tsports.common.comment.options.htEventHandler = {\n",
      "\t\tloadList: function (oEvent) {\n",
      "\t\t\tvar oJson = oEvent.oJson;\n",
      "\t\t\tif (oJson.success) {\n",
      "\t\t\t\tvar commentCount = oJson.result.count.comment;\n",
      "\t\t\t\tvar targetEl = jindo.$(\"newsCommentCount\");\n",
      "\t\t\t\tif (targetEl != null) {\n",
      "\t\t\t\t\ttargetEl.innerHTML = comma(commentCount);\n",
      "\t\t\t\t}\n",
      "\t\t\t}\n",
      "\t\t},\n",
      "\t\tafterCreate: function (oEvent) {\n",
      "\t\t\tvar oJson = oEvent.oJson;\n",
      "\t\t\tif (oJson.success) {\n",
      "\t\t\t\tvar commentCount = jindo.$ElementList('.u_cbox_count').getFirst().text();\n",
      "\t\t\t\tvar targetEl = jindo.$(\"newsCommentCount\");\n",
      "\t\t\t\tif (targetEl != null) {\n",
      "\t\t\t\t\ttargetEl.innerHTML = comma(commentCount);\n",
      "\t\t\t\t}\n",
      "\t\t\t} else {\n",
      "\t\t\t}\n",
      "\t\t}\n",
      "\t};\n",
      "\n",
      "\tfunction viewSocialComment() {\n",
      "\t\tsports.common.comment.init(sports.common.comment.options);\n",
      "\t}\n",
      "\texeJs.push(viewSocialComment);\n",
      "</script>\n",
      "</div>]\n"
     ]
    }
   ],
   "source": [
    "print(lis)\n"
   ]
  },
  {
   "cell_type": "code",
   "execution_count": null,
   "metadata": {
    "collapsed": true
   },
   "outputs": [],
   "source": []
  },
  {
   "cell_type": "code",
   "execution_count": null,
   "metadata": {
    "collapsed": true
   },
   "outputs": [],
   "source": []
  }
 ],
 "metadata": {
  "kernelspec": {
   "display_name": "Python 3",
   "language": "python",
   "name": "python3"
  }
 },
 "nbformat": 4,
 "nbformat_minor": 2
}
