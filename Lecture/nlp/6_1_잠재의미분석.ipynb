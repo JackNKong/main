{
 "cells": [
  {
   "cell_type": "code",
   "execution_count": 1,
   "metadata": {},
   "outputs": [
    {
     "data": {
      "text/plain": [
       "11314"
      ]
     },
     "execution_count": 1,
     "metadata": {},
     "output_type": "execute_result"
    }
   ],
   "source": []
  },
  {
   "cell_type": "code",
   "execution_count": 38,
   "metadata": {},
   "outputs": [
    {
     "name": "stdout",
     "output_type": "stream",
     "text": [
      "42193\n"
     ]
    }
   ],
   "source": [
    "import pandas as pd\n",
    "from sklearn.datasets import fetch_20newsgroups\n",
    "import os,io\n",
    "\n",
    "files = os.listdir(os.getcwd()+'/data/spao_reviews/')\n",
    "result_df =pd.DataFrame()\n",
    "for file in files : \n",
    "    df=pd.read_parquet(os.getcwd()+'/data/spao_reviews/' + file)\n",
    "    \n",
    "    result_df = pd.concat([result_df,df])\n",
    "print(len(result_df))\n",
    "result_df.reset_index(drop=True,inplace=True)"
   ]
  },
  {
   "cell_type": "code",
   "execution_count": 39,
   "metadata": {},
   "outputs": [
    {
     "name": "stderr",
     "output_type": "stream",
     "text": [
      "c:\\users\\jeong_jaekeun\\appdata\\local\\programs\\python\\python37\\lib\\site-packages\\ipykernel_launcher.py:2: FutureWarning: The default value of regex will change from True to False in a future version.\n",
      "  \n"
     ]
    },
    {
     "data": {
      "text/plain": [
       "'testest'"
      ]
     },
     "execution_count": 39,
     "metadata": {},
     "output_type": "execute_result"
    }
   ],
   "source": [
    "result_df['rev_cont'][0]\n",
    "result_df['clean_Doc'] = result_df['rev_cont'].str.replace(\"[^a-zA-Z가-힣]\", \" \") #특수문자제거\n",
    "result_df['clean_Doc'] = result_df['clean_Doc'].apply(lambda x: ' '.join([w for w in x.split() if len(w)>2])) \n",
    "#영어는 3글자 한글은 2글자 이상 제거\n",
    "\n",
    "result_df['clean_Doc'][0]"
   ]
  },
  {
   "cell_type": "code",
   "execution_count": 52,
   "metadata": {},
   "outputs": [],
   "source": [
    "from nltk.corpus import stopwords\n",
    "stop_words = stopwords.words('english') # NLTK로부터 불용어를 받아옵니다.\n",
    "tokenized_doc = result_df['clean_Doc'].apply(lambda x: x.split()) # 토큰화\n",
    "tokenized_doc = tokenized_doc.apply(lambda x: [item for item in x if item not in stop_words])"
   ]
  },
  {
   "cell_type": "code",
   "execution_count": 53,
   "metadata": {},
   "outputs": [
    {
     "data": {
      "text/plain": [
       "['소재도', '원하던', '디자인대로', '상품도', '나왔습니다']"
      ]
     },
     "execution_count": 53,
     "metadata": {},
     "output_type": "execute_result"
    }
   ],
   "source": [
    "tokenized_doc[4]"
   ]
  },
  {
   "cell_type": "code",
   "execution_count": 54,
   "metadata": {},
   "outputs": [],
   "source": [
    "detokenized_doc = []\n",
    "for i in range(len(result_df)):\n",
    "    t = ' '.join(tokenized_doc[i])\n",
    "    detokenized_doc.append(t)\n",
    "\n",
    "result_df['clean_doc'] = detokenized_doc"
   ]
  },
  {
   "cell_type": "code",
   "execution_count": 55,
   "metadata": {},
   "outputs": [
    {
     "data": {
      "text/plain": [
       "'소재도 원하던 디자인대로 상품도 나왔습니다'"
      ]
     },
     "execution_count": 55,
     "metadata": {},
     "output_type": "execute_result"
    }
   ],
   "source": [
    "result_df['clean_doc'][4]"
   ]
  },
  {
   "cell_type": "code",
   "execution_count": 56,
   "metadata": {},
   "outputs": [
    {
     "data": {
      "text/plain": [
       "(42193, 1000)"
      ]
     },
     "execution_count": 56,
     "metadata": {},
     "output_type": "execute_result"
    }
   ],
   "source": [
    "from sklearn.feature_extraction.text import TfidfVectorizer\n",
    "\n",
    "vectorizer = TfidfVectorizer(stop_words='english', \n",
    "max_features= 1000, # 상위 1,000개의 단어를 보존 \n",
    "max_df = 0.5, \n",
    "smooth_idf=True)\n",
    "\n",
    "X = vectorizer.fit_transform(result_df['clean_doc'])\n",
    "X.shape # TF-IDF 행렬의 크기 확인"
   ]
  },
  {
   "cell_type": "code",
   "execution_count": 61,
   "metadata": {},
   "outputs": [
    {
     "data": {
      "text/plain": [
       "10"
      ]
     },
     "execution_count": 61,
     "metadata": {},
     "output_type": "execute_result"
    }
   ],
   "source": [
    "from sklearn.decomposition import TruncatedSVD\n",
    "svd_model = TruncatedSVD(n_components=10, algorithm='randomized', n_iter=100, random_state=122)\n",
    "svd_model.fit(X)\n",
    "len(svd_model.components_)"
   ]
  },
  {
   "cell_type": "code",
   "execution_count": 62,
   "metadata": {},
   "outputs": [
    {
     "name": "stdout",
     "output_type": "stream",
     "text": [
      "Topic 1: [('좋아요', 0.9846), ('따뜻하고', 0.10937), ('편하고', 0.05805), ('사이즈', 0.03849), ('사이즈도', 0.03727)]\n",
      "Topic 2: [('예뻐요', 0.84805), ('이뻐요', 0.2357), ('따뜻하고', 0.20488), ('같아요', 0.17084), ('사이즈', 0.14213)]\n",
      "Topic 3: [('이뻐요', 0.87734), ('따뜻하고', 0.12851), ('좋습니다', 0.10754), ('사이즈', 0.08818), ('같아요', 0.07163)]\n",
      "Topic 4: [('따뜻하고', 0.57397), ('좋습니다', 0.41731), ('귀여워요', 0.25568), ('같아요', 0.18125), ('사이즈', 0.13841)]\n",
      "Topic 5: [('따뜻하고', 0.69846), ('이뻐요', 0.08438), ('예뻐요', 0.08151), ('편해요', 0.01654), ('부드러워요', 0.0119)]\n",
      "Topic 6: [('귀여워요', 0.75488), ('따뜻하고', 0.26313), ('이뻐요', 0.04969), ('예뻐요', 0.03918), ('너무너무', 0.0177)]\n",
      "Topic 7: [('좋습니다', 0.69049), ('귀여워요', 0.32532), ('예뻐요', 0.11362), ('이뻐요', 0.08629), ('편하고', 0.07069)]\n",
      "Topic 8: [('사이즈', 0.80322), ('맞아요', 0.152), ('귀여워요', 0.10015), ('따뜻하고', 0.06606), ('적당하고', 0.02798)]\n",
      "Topic 9: [('따뜻해요', 0.4204), ('마음에', 0.35539), ('편하고', 0.35013), ('들어요', 0.34313), ('사이즈도', 0.18859)]\n",
      "Topic 10: [('따뜻해요', 0.58789), ('편하고', 0.39279), ('생각보다', 0.14202), ('부드럽고', 0.1124), ('가볍고', 0.06596)]\n"
     ]
    }
   ],
   "source": [
    "terms = vectorizer.get_feature_names() # 단어 집합. 1,000개의 단어가 저장됨.\n",
    "\n",
    "def get_topics(components, feature_names, n=5):\n",
    "    for idx, topic in enumerate(components):\n",
    "        print(\"Topic %d:\" % (idx+1), [(feature_names[i], topic[i].round(5)) for i in topic.argsort()[:-n - 1:-1]])\n",
    "get_topics(svd_model.components_,terms)"
   ]
  },
  {
   "cell_type": "code",
   "execution_count": null,
   "metadata": {},
   "outputs": [],
   "source": []
  }
 ],
 "metadata": {
  "kernelspec": {
   "display_name": "Python 3",
   "language": "python",
   "name": "python3"
  },
  "language_info": {
   "codemirror_mode": {
    "name": "ipython",
    "version": 3
   },
   "file_extension": ".py",
   "mimetype": "text/x-python",
   "name": "python",
   "nbconvert_exporter": "python",
   "pygments_lexer": "ipython3",
   "version": "3.7.6"
  }
 },
 "nbformat": 4,
 "nbformat_minor": 4
}
