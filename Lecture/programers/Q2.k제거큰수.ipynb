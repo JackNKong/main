{
 "cells": [
  {
   "cell_type": "code",
   "execution_count": 2,
   "metadata": {},
   "outputs": [],
   "source": [
    "from itertools import combinations\n",
    "\n",
    "def convert(string): \n",
    "    list1=[] \n",
    "    list1[:0]=string \n",
    "    return list1\n",
    "\n",
    "\n",
    "def solution(number, k):\n",
    "    answer = ''\n",
    "    number_split = convert(number)\n",
    "    #print(number_split)\n",
    "    #number_split = [int(i) for i in number_split]\n",
    "    number_len = len(number)\n",
    "    combi = combinations(number_split,number_len-k)\n",
    "    combi = list(combi)\n",
    "    print(combi)\n",
    "    combi = [''.join(i) for i in combi]\n",
    "    answer = max(combi)\n",
    "    return answer\n",
    "\n",
    "##효율성 불통"
   ]
  },
  {
   "cell_type": "code",
   "execution_count": null,
   "metadata": {
    "scrolled": true
   },
   "outputs": [],
   "source": [
    "solution(\"1231237837981731891738937891378947189344\", 13)"
   ]
  },
  {
   "cell_type": "code",
   "execution_count": 1,
   "metadata": {},
   "outputs": [
    {
     "data": {
      "text/plain": [
       "range(0, 10)"
      ]
     },
     "execution_count": 1,
     "metadata": {},
     "output_type": "execute_result"
    }
   ],
   "source": [
    "####해답 전체 글자수 포문돌아서 가장큰숫자 그다음 큰 숫자 찾기 \n",
    "\n",
    "range(10)"
   ]
  }
 ],
 "metadata": {
  "kernelspec": {
   "display_name": "Python 3",
   "language": "python",
   "name": "python3"
  },
  "language_info": {
   "codemirror_mode": {
    "name": "ipython",
    "version": 3
   },
   "file_extension": ".py",
   "mimetype": "text/x-python",
   "name": "python",
   "nbconvert_exporter": "python",
   "pygments_lexer": "ipython3",
   "version": "3.7.6"
  }
 },
 "nbformat": 4,
 "nbformat_minor": 4
}
