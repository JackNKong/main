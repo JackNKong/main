{
 "cells": [
  {
   "cell_type": "code",
   "execution_count": 15,
   "metadata": {},
   "outputs": [],
   "source": [
    "def solution(n, edge):\n",
    "    answer = 0\n",
    "    search_list = [1]\n",
    "    #search_num = search_list[0]\n",
    "    \n",
    "    corsor=True\n",
    "    fin_list = set()\n",
    "    while corsor :\n",
    "        next_list=set()\n",
    "        for search_num in search_list :\n",
    "            fin_list.add(search_num)\n",
    "            for edge_tuple in edge : \n",
    "                if edge_tuple[0]==search_num :\n",
    "                    next_list.add(edge_tuple[1])\n",
    "                if edge_tuple[1]==search_num :\n",
    "                    next_list.add(edge_tuple[0])\n",
    "        \n",
    "        next_list = next_list- fin_list\n",
    "        \n",
    "        \n",
    "        \n",
    "        if next_list : \n",
    "            #pass\n",
    "            search_list = next_list\n",
    "            #print(next_list)\n",
    "        else : \n",
    "            corsor =False\n",
    "            return len(search_list)\n",
    "    #return answera\n",
    "\n",
    "\n",
    "\n",
    "\n",
    "\n"
   ]
  },
  {
   "cell_type": "code",
   "execution_count": 16,
   "metadata": {},
   "outputs": [
    {
     "name": "stdout",
     "output_type": "stream",
     "text": [
      "3 3\n",
      "4 4\n",
      "1 1\n",
      "1 1\n",
      "2 2\n",
      "1 1\n",
      "3 3\n",
      "1 1\n",
      "2 2\n"
     ]
    }
   ],
   "source": [
    "print(solution(6, [[3, 6], [4, 3], [3, 2], [1, 3], [1, 2], [2, 4], [5, 2]]), 3)\n",
    "print(solution(11, [[1, 2], [1, 3], [2, 4], [2, 5], [3, 5], [\n",
    "      3, 6], [4, 8], [4, 9], [5, 9], [5, 10], [6, 10], [6, 11]]), 4)\n",
    "print(solution(4, [[1, 2], [2, 3], [3, 4]]), 1)\n",
    "print(solution(2, [[1, 2]]), 1)\n",
    "print(solution(5, [[4, 3], [3, 2], [1, 3], [1, 2], [2, 4], [5, 2]]), 2)\n",
    "print(solution(4, [[1, 2], [1, 3], [2, 3], [2, 4], [3, 4]]), 1)\n",
    "print(solution(4, [[1, 4], [1, 3], [2, 3], [2, 1]]), 3)\n",
    "print(solution(4, [[3, 4], [1, 3], [2, 3], [2, 1]]), 1)\n",
    "print(solution(4, [[4, 3], [1, 3], [2, 3]]), 2)"
   ]
  },
  {
   "cell_type": "code",
   "execution_count": 9,
   "metadata": {},
   "outputs": [
    {
     "data": {
      "text/plain": [
       "{1, 2}"
      ]
     },
     "execution_count": 9,
     "metadata": {},
     "output_type": "execute_result"
    }
   ],
   "source": [
    "set([1,2])"
   ]
  },
  {
   "cell_type": "code",
   "execution_count": 10,
   "metadata": {},
   "outputs": [
    {
     "data": {
      "text/plain": [
       "set()"
      ]
     },
     "execution_count": 10,
     "metadata": {},
     "output_type": "execute_result"
    }
   ],
   "source": [
    "set()"
   ]
  },
  {
   "cell_type": "code",
   "execution_count": null,
   "metadata": {},
   "outputs": [],
   "source": []
  }
 ],
 "metadata": {
  "kernelspec": {
   "display_name": "Python 3",
   "language": "python",
   "name": "python3"
  },
  "language_info": {
   "codemirror_mode": {
    "name": "ipython",
    "version": 3
   },
   "file_extension": ".py",
   "mimetype": "text/x-python",
   "name": "python",
   "nbconvert_exporter": "python",
   "pygments_lexer": "ipython3",
   "version": "3.7.6"
  }
 },
 "nbformat": 4,
 "nbformat_minor": 4
}
