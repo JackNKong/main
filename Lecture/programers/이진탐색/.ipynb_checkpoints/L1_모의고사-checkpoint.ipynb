{
 "cells": [
  {
   "cell_type": "code",
   "execution_count": 1,
   "metadata": {},
   "outputs": [],
   "source": [
    "def solution(answers):\n",
    "    answer = []\n",
    "    \n",
    "    \n",
    "    first_score = 0 \n",
    "    second_score = 0\n",
    "    third_score = 0\n",
    "    \n",
    "    for i,answer in enumerate(answers) :\n",
    "        ##1번 수포자\n",
    "        if i % 5 == 0 and answer == 1 : first_score +=1\n",
    "        if i % 5 == 1 and answer == 2 : first_score +=1\n",
    "        if i % 5 == 2 and answer == 3 : first_score +=1\n",
    "        if i % 5 == 3 and answer == 4 : first_score +=1\n",
    "        if i % 5 == 4 and answer == 5 : first_score +=1\n",
    "        ##2번 수포자    \n",
    "        if i % 2 == 0 and answer == 2 : second_score +=1\n",
    "        if i % 8 == 1 and answer == 1 : second_score +=1\n",
    "        if i % 8 == 3 and answer == 3 : second_score +=1\n",
    "        if i % 8 == 5 and answer == 4 : second_score +=1\n",
    "        if i % 8 == 7 and answer == 5 : second_score +=1\n",
    "        ##3번 수포자    \n",
    "        if i % 10 in [0,1] and answer == 3 : third_score +=1\n",
    "        if i % 10 in [2,3] and answer == 1 : third_score +=1\n",
    "        if i % 10 in [4,5] and answer == 2 : third_score +=1\n",
    "        if i % 10 in [6,7] and answer == 4 : second_score +=1\n",
    "        if i % 10 in [8,9] and answer == 5 : second_score +=1\n",
    "    \n",
    "    print(first_score,second_score,third_score)\n",
    "            \n",
    "            \n",
    "    return answer"
   ]
  },
  {
   "cell_type": "code",
   "execution_count": 2,
   "metadata": {},
   "outputs": [
    {
     "name": "stdout",
     "output_type": "stream",
     "text": [
      "2 4 0\n"
     ]
    },
    {
     "data": {
      "text/plain": [
       "2"
      ]
     },
     "execution_count": 2,
     "metadata": {},
     "output_type": "execute_result"
    }
   ],
   "source": [
    "solution([1,3,2,4,2])"
   ]
  },
  {
   "cell_type": "code",
   "execution_count": 4,
   "metadata": {},
   "outputs": [
    {
     "data": {
      "text/plain": [
       "False"
      ]
     },
     "execution_count": 4,
     "metadata": {},
     "output_type": "execute_result"
    }
   ],
   "source": [
    "3%10 in[0,1]"
   ]
  },
  {
   "cell_type": "code",
   "execution_count": null,
   "metadata": {},
   "outputs": [],
   "source": []
  }
 ],
 "metadata": {
  "kernelspec": {
   "display_name": "Python 3",
   "language": "python",
   "name": "python3"
  },
  "language_info": {
   "codemirror_mode": {
    "name": "ipython",
    "version": 3
   },
   "file_extension": ".py",
   "mimetype": "text/x-python",
   "name": "python",
   "nbconvert_exporter": "python",
   "pygments_lexer": "ipython3",
   "version": "3.7.6"
  }
 },
 "nbformat": 4,
 "nbformat_minor": 4
}
