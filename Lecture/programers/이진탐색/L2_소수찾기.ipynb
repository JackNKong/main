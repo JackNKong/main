{
 "cells": [
  {
   "cell_type": "code",
   "execution_count": 86,
   "metadata": {},
   "outputs": [],
   "source": [
    "from itertools import combinations,permutations\n",
    "\n",
    "def is_prime(number) :\n",
    "    result = True\n",
    "    \n",
    "    ###큰숫자는 절반정도만 확인해도됌\n",
    "    if number > 100 :\n",
    "        number_final = round(number/2)\n",
    "    else : \n",
    "        number_final = number\n",
    "    for i in range(2,number_final) : \n",
    "        if number % i ==0 : \n",
    "            result= False\n",
    "    return result\n",
    "\n",
    "def solution(numbers):\n",
    "    answer = 0\n",
    "    number_list = list(numbers)\n",
    "    last_num_list = []\n",
    "    for i in range(1,len(number_list)+1) : \n",
    "        last_num_list.extend(permutations(number_list,i))\n",
    "\n",
    "    tmp_num_list=[]\n",
    "    for number in last_num_list :\n",
    "        number = list(number)\n",
    "        tmp_num = ''.join(number)\n",
    "        tmp_num = int(tmp_num)\n",
    "        tmp_num_list.append(tmp_num)\n",
    "    tmp_num_list = list(set(tmp_num_list))\n",
    "    \n",
    "    for tmp_num in tmp_num_list:\n",
    "        if is_prime(tmp_num) and tmp_num >1: \n",
    "            answer+=1\n",
    "            print(tmp_num)\n",
    "            \n",
    "    return answer"
   ]
  },
  {
   "cell_type": "code",
   "execution_count": 87,
   "metadata": {},
   "outputs": [
    {
     "name": "stdout",
     "output_type": "stream",
     "text": [
      "3\n",
      "7\n",
      "3847\n",
      "37\n",
      "43\n",
      "47\n",
      "4783\n",
      "73\n",
      "83\n",
      "347\n",
      "743\n",
      "487\n"
     ]
    },
    {
     "data": {
      "text/plain": [
       "12"
      ]
     },
     "execution_count": 87,
     "metadata": {},
     "output_type": "execute_result"
    }
   ],
   "source": [
    "solution('7843')"
   ]
  },
  {
   "cell_type": "code",
   "execution_count": 67,
   "metadata": {},
   "outputs": [
    {
     "data": {
      "text/plain": [
       "False"
      ]
     },
     "execution_count": 67,
     "metadata": {},
     "output_type": "execute_result"
    }
   ],
   "source": [
    "is_prime(85)"
   ]
  },
  {
   "cell_type": "code",
   "execution_count": 33,
   "metadata": {},
   "outputs": [
    {
     "name": "stdout",
     "output_type": "stream",
     "text": [
      "[('1',), ('7',), ('8',)]\n"
     ]
    }
   ],
   "source": [
    "list_=['1', '7','8']\n",
    "print(list(permutations(list_,1)))"
   ]
  },
  {
   "cell_type": "code",
   "execution_count": 31,
   "metadata": {},
   "outputs": [
    {
     "data": {
      "text/plain": [
       "2395123362408"
      ]
     },
     "execution_count": 31,
     "metadata": {},
     "output_type": "execute_result"
    }
   ],
   "source": [
    "0x0000022DA87A2A68"
   ]
  },
  {
   "cell_type": "code",
   "execution_count": 77,
   "metadata": {},
   "outputs": [
    {
     "data": {
      "text/plain": [
       "1"
      ]
     },
     "execution_count": 77,
     "metadata": {},
     "output_type": "execute_result"
    }
   ],
   "source": [
    "round(0.65)"
   ]
  },
  {
   "cell_type": "code",
   "execution_count": 41,
   "metadata": {},
   "outputs": [
    {
     "data": {
      "text/plain": [
       "'17'"
      ]
     },
     "execution_count": 41,
     "metadata": {},
     "output_type": "execute_result"
    }
   ],
   "source": [
    "''.join(['1', '7'])"
   ]
  },
  {
   "cell_type": "code",
   "execution_count": null,
   "metadata": {},
   "outputs": [],
   "source": []
  }
 ],
 "metadata": {
  "kernelspec": {
   "display_name": "Python 3",
   "language": "python",
   "name": "python3"
  },
  "language_info": {
   "codemirror_mode": {
    "name": "ipython",
    "version": 3
   },
   "file_extension": ".py",
   "mimetype": "text/x-python",
   "name": "python",
   "nbconvert_exporter": "python",
   "pygments_lexer": "ipython3",
   "version": "3.7.6"
  }
 },
 "nbformat": 4,
 "nbformat_minor": 4
}
