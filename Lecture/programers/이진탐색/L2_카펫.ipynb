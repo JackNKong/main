{
 "cells": [
  {
   "cell_type": "code",
   "execution_count": null,
   "metadata": {},
   "outputs": [],
   "source": [
    "def solution(brown, yellow):\n",
    "    a=0#가로\n",
    "    b=0#세로\n",
    "    answer = [a,b]\n",
    "    \n",
    "    2a+2b-4 = brown\n",
    "    \n",
    "    return answer"
   ]
  },
  {
   "cell_type": "code",
   "execution_count": null,
   "metadata": {},
   "outputs": [],
   "source": []
  },
  {
   "cell_type": "code",
   "execution_count": 79,
   "metadata": {},
   "outputs": [],
   "source": [
    "from collections import defaultdict\n",
    "\n",
    "def multiplyList(myList) :\n",
    "     \n",
    "    # Multiply elements one by one\n",
    "    result = 1\n",
    "    for x in myList:\n",
    "         result = result * x\n",
    "    return result\n",
    "\n",
    "\n",
    "\n",
    "def solution(brown, yellow):\n",
    "    answer = []\n",
    "    plus_num = brown+yellow\n",
    "    #dic =defaultdict(int)\n",
    "    div_list = []\n",
    "    d = 2\n",
    "    while d<=plus_num :\n",
    "        if plus_num% d == 0 :\n",
    "            #dic[d] +=1\n",
    "            div_list.append(d)\n",
    "            plus_num = plus_num/d\n",
    "        else :\n",
    "            d+=1\n",
    "    \n",
    "    result =[]\n",
    "    print(div_list)\n",
    "    for i in range(0,len(div_list)) : \n",
    "        #a,b=1\n",
    "        a = multiplyList(div_list[:i]) #합 아니고 곱\n",
    "        b = multiplyList(div_list[i:])\n",
    "        result.append((a,b))\n",
    "    \n",
    "    print(result)\n",
    "    \n",
    "    for res in result : \n",
    "        res = sorted(list(res), reverse = True)\n",
    "        if (res[0]-2) * (res[1]-2) == yellow : #높이가 3이면 -4가 아님 안쪽 노란색을 기준으로 해야함\n",
    "            return res\n",
    "    \n",
    "    #return result"
   ]
  },
  {
   "cell_type": "code",
   "execution_count": 80,
   "metadata": {},
   "outputs": [
    {
     "name": "stdout",
     "output_type": "stream",
     "text": [
      "[2, 2, 2, 2, 5, 5, 5, 5]\n",
      "[(1, 10000), (2, 5000), (4, 2500), (8, 1250), (16, 625), (80, 125), (400, 25), (2000, 5)]\n"
     ]
    }
   ],
   "source": [
    "solution(36,9964)"
   ]
  },
  {
   "cell_type": "code",
   "execution_count": 67,
   "metadata": {},
   "outputs": [],
   "source": [
    "dic =defaultdict(int)"
   ]
  },
  {
   "cell_type": "code",
   "execution_count": 12,
   "metadata": {},
   "outputs": [
    {
     "data": {
      "text/plain": [
       "defaultdict(int, {0: 1})"
      ]
     },
     "execution_count": 12,
     "metadata": {},
     "output_type": "execute_result"
    }
   ],
   "source": [
    "dic"
   ]
  },
  {
   "cell_type": "code",
   "execution_count": null,
   "metadata": {},
   "outputs": [],
   "source": []
  }
 ],
 "metadata": {
  "kernelspec": {
   "display_name": "Python 3",
   "language": "python",
   "name": "python3"
  },
  "language_info": {
   "codemirror_mode": {
    "name": "ipython",
    "version": 3
   },
   "file_extension": ".py",
   "mimetype": "text/x-python",
   "name": "python",
   "nbconvert_exporter": "python",
   "pygments_lexer": "ipython3",
   "version": "3.7.6"
  }
 },
 "nbformat": 4,
 "nbformat_minor": 4
}
