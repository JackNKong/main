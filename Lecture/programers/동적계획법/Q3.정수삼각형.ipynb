{
 "cells": [
  {
   "cell_type": "code",
   "execution_count": 3,
   "metadata": {},
   "outputs": [],
   "source": [
    "list_=[[7], [3, 8], [8, 1, 0], [2, 7, 4, 4], [4, 5, 2, 6, 5]]\n",
    "\n",
    "\n",
    "\n",
    "###위에서 내려오는거 보다 아래에서 올라가는게 더 빠름"
   ]
  },
  {
   "cell_type": "code",
   "execution_count": 26,
   "metadata": {},
   "outputs": [],
   "source": [
    "def solution(triangle):\n",
    "    add_list = [[triangle[0]]]\n",
    "    answer = 0\n",
    "    before_list = [triangle[0][0] + triangle[1][0], triangle[0][0] + triangle[0][0]]\n",
    "    print(triangle)\n",
    "    i=2\n",
    "    now_list = triangle[i]\n",
    "    corsor =True\n",
    "\n",
    "    while corsor :\n",
    "    \n",
    "        now_list = triangle[i]\n",
    "\n",
    "        print(now_list,before_list)\n",
    "        next_list = []\n",
    "        for i, now_num in enumerate(now_list) : \n",
    "            if i == 0 : \n",
    "                next_list.append(now_num+before_list[0])\n",
    "            elif i == len(now_list)-1 :\n",
    "                next_list.append(now_num+before_list[-1])\n",
    "            else :\n",
    "                max_num = max(before_list[i-1],before_list[i])\n",
    "                next_list.append(now_num+max_num)\n",
    "\n",
    "        i+=1\n",
    "\n",
    "        before_list = next_list\n",
    "        \n",
    "        if i == len(triangle): corsor = False\n",
    "    \n",
    "\n",
    "    \n",
    "    return max(next_list)"
   ]
  },
  {
   "cell_type": "code",
   "execution_count": 46,
   "metadata": {},
   "outputs": [],
   "source": [
    "def solution(triangle):\n",
    "    add_list = [[triangle[0]]]\n",
    "    answer = 0\n",
    "    before_list = [triangle[0][0] + triangle[1][0], triangle[0][0] + triangle[0][0]]\n",
    "    level=-2\n",
    "    #now_list = triangle[i]\n",
    "    corsor =True\n",
    "    low_list = triangle[-1]\n",
    "    while corsor :\n",
    "        now_list = triangle[level]\n",
    "        next_list = []\n",
    "        for i in range(0,len(now_list)) :\n",
    "            #print(i)\n",
    "            plus_num = max(low_list[i], low_list[i+1])\n",
    "            next_list.append(now_list[i]+plus_num)\n",
    "            \n",
    "        #print(now_list,low_list,next_list)\n",
    "        low_list=next_list\n",
    "        level-=1\n",
    "        \n",
    "        if abs(level+1) == len(triangle): corsor = False\n",
    "    \n",
    "\n",
    "    \n",
    "    return max(next_list)"
   ]
  },
  {
   "cell_type": "code",
   "execution_count": 47,
   "metadata": {},
   "outputs": [
    {
     "name": "stdout",
     "output_type": "stream",
     "text": [
      "[2, 7, 4, 4] [4, 5, 2, 6, 5] [7, 12, 10, 10]\n",
      "[8, 1, 0] [7, 12, 10, 10] [20, 13, 10]\n",
      "[3, 8] [20, 13, 10] [23, 21]\n",
      "[7] [23, 21] [30]\n"
     ]
    },
    {
     "data": {
      "text/plain": [
       "30"
      ]
     },
     "execution_count": 47,
     "metadata": {},
     "output_type": "execute_result"
    }
   ],
   "source": [
    "solution(list_)"
   ]
  },
  {
   "cell_type": "code",
   "execution_count": 153,
   "metadata": {},
   "outputs": [],
   "source": [
    "list2=[[[7]]]"
   ]
  },
  {
   "cell_type": "code",
   "execution_count": 98,
   "metadata": {},
   "outputs": [
    {
     "data": {
      "text/plain": [
       "[7]"
      ]
     },
     "execution_count": 98,
     "metadata": {},
     "output_type": "execute_result"
    }
   ],
   "source": [
    "list2[0][0]"
   ]
  },
  {
   "cell_type": "code",
   "execution_count": null,
   "metadata": {},
   "outputs": [],
   "source": []
  },
  {
   "cell_type": "code",
   "execution_count": null,
   "metadata": {},
   "outputs": [],
   "source": []
  }
 ],
 "metadata": {
  "kernelspec": {
   "display_name": "Python 3",
   "language": "python",
   "name": "python3"
  }
 },
 "nbformat": 4,
 "nbformat_minor": 4
}
