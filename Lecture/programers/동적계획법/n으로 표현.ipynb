{
 "cells": [
  {
   "cell_type": "code",
   "execution_count": 8,
   "metadata": {},
   "outputs": [],
   "source": [
    "def solution(N, number):\n",
    "    answer = 0\n",
    "    #f1\n",
    "    number_list=[N]\n",
    "    #f2\n",
    "    plus_list = []\n",
    "    for num in number_list : \n",
    "        plus_list.append(num+N)\n",
    "        plus_list.append(num-N)\n",
    "        plus_list.append(num*N)\n",
    "        plus_list.append(num/N)\n",
    "    number_list.extend(plus_list)\n",
    "    \n",
    "    return number_list\n",
    "#[출처] Python 프로그래머스 N으로 표현|작성자 건짱"
   ]
  },
  {
   "cell_type": "code",
   "execution_count": 9,
   "metadata": {},
   "outputs": [
    {
     "data": {
      "text/plain": [
       "[4, 8, 0, 16, 1.0]"
      ]
     },
     "execution_count": 9,
     "metadata": {},
     "output_type": "execute_result"
    }
   ],
   "source": [
    "solution(4,113)"
   ]
  },
  {
   "cell_type": "code",
   "execution_count": 7,
   "metadata": {},
   "outputs": [
    {
     "data": {
      "text/plain": [
       "0.6"
      ]
     },
     "execution_count": 7,
     "metadata": {},
     "output_type": "execute_result"
    }
   ],
   "source": [
    "3/5"
   ]
  },
  {
   "cell_type": "code",
   "execution_count": null,
   "metadata": {},
   "outputs": [],
   "source": []
  },
  {
   "cell_type": "code",
   "execution_count": null,
   "metadata": {},
   "outputs": [],
   "source": [
    "def solution(N, number):\n",
    "    dp=[]\n",
    "    for i in range(1,9):\n",
    "        numbers = set()\n",
    "        numbers.add(int(str(N)*i))\n",
    "        for j in range(0,i-1) :\n",
    "            for x in dp[j]:\n",
    "                for y in dp[-j-1] :\n",
    "                    numbers.add(x+y)\n",
    "                    numbers.add(x-y)\n",
    "                    numbers.add(x*y)\n",
    "                    if y != 0 :\n",
    "                        numbers.add(x//y)\n",
    "        if number in numbers :\n",
    "            return i\n",
    "        else : dp.append(numbers)\n",
    "    \n",
    "    return -1\n",
    "#[출처] Python 프로그래머스 N으로 표현|작성자 건짱"
   ]
  }
 ],
 "metadata": {
  "kernelspec": {
   "display_name": "Python 3",
   "language": "python",
   "name": "python3"
  },
  "language_info": {
   "codemirror_mode": {
    "name": "ipython",
    "version": 3
   },
   "file_extension": ".py",
   "mimetype": "text/x-python",
   "name": "python",
   "nbconvert_exporter": "python",
   "pygments_lexer": "ipython3",
   "version": "3.7.6"
  }
 },
 "nbformat": 4,
 "nbformat_minor": 4
}
