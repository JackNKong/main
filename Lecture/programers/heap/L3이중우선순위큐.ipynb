{
 "cells": [
  {
   "cell_type": "code",
   "execution_count": 58,
   "metadata": {},
   "outputs": [],
   "source": [
    "import heapq\n",
    "\n",
    "\n",
    "def solution(operations):\n",
    "    answer = []\n",
    "    heap=[]\n",
    "    for oper in operations :\n",
    "        operation = oper.split(' ')[0]\n",
    "        oper_value = oper.split(' ')[1]\n",
    "        if operation =='I' : \n",
    "            heapq.heappush(heap,oper_value)\n",
    "            #print('추가',oper_value)\n",
    "        elif operation == \"D\" and oper_value == \"1\" :\n",
    "            #print('최대값제거')\n",
    "            if heap : heap.pop(-1)\n",
    "            else :  pass\n",
    "        elif operation == \"D\" and oper_value == \"-1\" :\n",
    "            #print('최소값제거')\n",
    "            if heap : heap.pop(0)\n",
    "            else : pass\n",
    "        \n",
    "        else : \n",
    "            pass\n",
    "        \n",
    "    if len(heap) == 0 :\n",
    "        answer = [0,0]\n",
    "    else :\n",
    "        heap = [int(i) for i in heap]\n",
    "        answer = [max(heap),min(heap)]\n",
    "        \n",
    "    return answer"
   ]
  },
  {
   "cell_type": "code",
   "execution_count": null,
   "metadata": {},
   "outputs": [],
   "source": [
    "import heapq \n",
    "#최소힙이라 -를 해서 넣는게 포인트 \n",
    "\n",
    "\n",
    "def solution(operations):\n",
    "    answer = [] \n",
    "    h= [] # 정답 넣는 곳\n",
    "    \n",
    "    # 각 string 하나 씩 가져옴\n",
    "    for i in operations:\n",
    "        # 공백을 기준으로 리스트 만듦\n",
    "        tmp=i.split(' ')\n",
    "        # I 일 경우, 뒤에 숫자 값 넣음\n",
    "        if tmp[0]=='I':\n",
    "            # - 한 이유는 최소힙 이기때문에 큰 값이 앞으로 가라고.\n",
    "            heapq.heappush(answer,-int(tmp[1]))\n",
    "        else:\n",
    "            # 아닐경우 일단, 조건에서 큐 안에 값이 없을 경우, 없애는 계산 무시하라고 해서 넣은 조건식\n",
    "            if len(answer)!=0:\n",
    "                # 내림차순으로 정렬되어 있음\n",
    "                # -1 일경우 최솟값 빼기\n",
    "                if tmp[1]=='-1':\n",
    "                    answer.pop(-1)\n",
    "                # 1일 경우 최댓값 빼기\n",
    "                else:\n",
    "                    answer.pop(0)\n",
    "         # 제대로 정렬해줌\n",
    "        answer.sort()\n",
    "    # 안에 값이 없을경우,  0 0 출력\n",
    "    if len(answer)==0:\n",
    "        return [0,0]\n",
    "   \t# 값이 있을경우 [최대, 최소]\n",
    "    h.append(-min(answer))\n",
    "    h.append(-max(answer))\n",
    "    return h\n",
    "#[출처] 🤦‍♂️프로그래머스 이중 우선순위 큐(LV 3)🤦‍♂️|작성자 zizi"
   ]
  },
  {
   "cell_type": "code",
   "execution_count": null,
   "metadata": {},
   "outputs": [],
   "source": []
  },
  {
   "cell_type": "code",
   "execution_count": 59,
   "metadata": {},
   "outputs": [
    {
     "data": {
      "text/plain": [
       "[8, 7]"
      ]
     },
     "execution_count": 59,
     "metadata": {},
     "output_type": "execute_result"
    }
   ],
   "source": [
    "\n",
    "solution([\"I 5\", \"I 5\", \"D 1\", \"I 7\", \"D -1\", \"I 8\"])"
   ]
  },
  {
   "cell_type": "code",
   "execution_count": 60,
   "metadata": {},
   "outputs": [
    {
     "name": "stdout",
     "output_type": "stream",
     "text": [
      "[0, 0]\n",
      "[7, 5]\n"
     ]
    }
   ],
   "source": [
    "print(solution([\"I 16\",\"D 1\"]))\n",
    "print(solution([\"I 7\",\"I 5\",\"I -5\",\"D -1\"]))"
   ]
  },
  {
   "cell_type": "code",
   "execution_count": 14,
   "metadata": {},
   "outputs": [
    {
     "data": {
      "text/plain": [
       "[2, 4, 3]"
      ]
     },
     "execution_count": 14,
     "metadata": {},
     "output_type": "execute_result"
    }
   ],
   "source": [
    "heapq.heappop(heap)\n",
    "heap"
   ]
  },
  {
   "cell_type": "code",
   "execution_count": 17,
   "metadata": {},
   "outputs": [],
   "source": [
    "del heap[-1]"
   ]
  },
  {
   "cell_type": "code",
   "execution_count": 18,
   "metadata": {},
   "outputs": [
    {
     "data": {
      "text/plain": [
       "[1, 2, 3]"
      ]
     },
     "execution_count": 18,
     "metadata": {},
     "output_type": "execute_result"
    }
   ],
   "source": [
    "heap"
   ]
  },
  {
   "cell_type": "code",
   "execution_count": 65,
   "metadata": {},
   "outputs": [],
   "source": [
    "heap=[]\n",
    "heapq.heappush(heap,1)\n",
    "heapq.heappush(heap,6)\n",
    "heapq.heappush(heap,4)\n",
    "heapq.heappush(heap,2)\n",
    "heapq.heappush(heap,5)"
   ]
  },
  {
   "cell_type": "code",
   "execution_count": 64,
   "metadata": {},
   "outputs": [
    {
     "data": {
      "text/plain": [
       "[1, 2, 4, 6]"
      ]
     },
     "execution_count": 64,
     "metadata": {},
     "output_type": "execute_result"
    }
   ],
   "source": [
    "heap.pop(-1)\n",
    "heap"
   ]
  },
  {
   "cell_type": "code",
   "execution_count": 66,
   "metadata": {},
   "outputs": [
    {
     "data": {
      "text/plain": [
       "[1, 2, 4, 6, 5]"
      ]
     },
     "execution_count": 66,
     "metadata": {},
     "output_type": "execute_result"
    }
   ],
   "source": [
    "heap"
   ]
  },
  {
   "cell_type": "code",
   "execution_count": 56,
   "metadata": {},
   "outputs": [
    {
     "data": {
      "text/plain": [
       "0"
      ]
     },
     "execution_count": 56,
     "metadata": {},
     "output_type": "execute_result"
    }
   ],
   "source": [
    "max(heap)"
   ]
  },
  {
   "cell_type": "code",
   "execution_count": 57,
   "metadata": {},
   "outputs": [
    {
     "data": {
      "text/plain": [
       "-5"
      ]
     },
     "execution_count": 57,
     "metadata": {},
     "output_type": "execute_result"
    }
   ],
   "source": [
    "int(-5)"
   ]
  },
  {
   "cell_type": "code",
   "execution_count": null,
   "metadata": {},
   "outputs": [],
   "source": []
  }
 ],
 "metadata": {
  "kernelspec": {
   "display_name": "Python 3",
   "language": "python",
   "name": "python3"
  },
  "language_info": {
   "codemirror_mode": {
    "name": "ipython",
    "version": 3
   },
   "file_extension": ".py",
   "mimetype": "text/x-python",
   "name": "python",
   "nbconvert_exporter": "python",
   "pygments_lexer": "ipython3",
   "version": "3.7.6"
  }
 },
 "nbformat": 4,
 "nbformat_minor": 4
}
