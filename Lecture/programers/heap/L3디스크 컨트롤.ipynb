{
 "cells": [
  {
   "cell_type": "code",
   "execution_count": 14,
   "metadata": {},
   "outputs": [],
   "source": [
    "list_1 = [[0, 3],[0,2], [1, 9], [2, 6]]"
   ]
  },
  {
   "cell_type": "code",
   "execution_count": 15,
   "metadata": {},
   "outputs": [
    {
     "data": {
      "text/plain": [
       "[[2, 6], [1, 9], [0, 3], [0, 2]]"
      ]
     },
     "execution_count": 15,
     "metadata": {},
     "output_type": "execute_result"
    }
   ],
   "source": [
    "list_1.sort(reverse= True)\n",
    "list_1"
   ]
  },
  {
   "cell_type": "code",
   "execution_count": 119,
   "metadata": {},
   "outputs": [],
   "source": [
    "import heapq\n",
    "#0초 요청이 두개일 경우 ?\n",
    "def solution(jobs):\n",
    "    now_time = 0\n",
    "    heap=[]\n",
    "    for job in jobs :\n",
    "        heapq.heappush(heap,job)\n",
    "\n",
    "    \n",
    "    result_list = []\n",
    "    #첫일정\n",
    "    \n",
    "    job_time = heapq.heappop(heap)\n",
    "    now_time  += job_time[0]+job_time[1]\n",
    "    result_list.append(now_time - job_time[0])\n",
    "    #print(now_time,heap,result_list)\n",
    "    \n",
    "\n",
    "    while heap : \n",
    "        now_heap = [1001,1001]\n",
    "        for heap_v in heap :\n",
    "            if heap_v[0] <= now_time and heap_v[1] < now_heap[1] : \n",
    "                now_heap = heap_v\n",
    "\n",
    "        if now_heap != [1001,1001] : \n",
    "            now_time += now_heap[1]\n",
    "            result_list.append(now_time -now_heap[0] )\n",
    "            heap.remove(now_heap)\n",
    "        else : \n",
    "            \n",
    "            now_heap = heapq.heappop(heap)\n",
    "            #print(now_heap,heap)\n",
    "            now_time = now_heap[0] +now_heap[1]\n",
    "            result_list.append(now_time -now_heap[0] )\n",
    "            #heap.remove(now_heap)\n",
    "            \n",
    "    answer = sum(result_list)/len(jobs)\n",
    "    #처음거 수행\n",
    "    \n",
    "    \n",
    "    print(result_list)\n",
    "    answer = int(answer)\n",
    "    return answer"
   ]
  },
  {
   "cell_type": "code",
   "execution_count": 120,
   "metadata": {},
   "outputs": [
    {
     "name": "stdout",
     "output_type": "stream",
     "text": [
      "[1, 1000]\n",
      "500 500\n"
     ]
    }
   ],
   "source": [
    "print(solution([[0, 1], [1000, 1000]]), 500)"
   ]
  },
  {
   "cell_type": "code",
   "execution_count": 121,
   "metadata": {},
   "outputs": [
    {
     "name": "stdout",
     "output_type": "stream",
     "text": [
      "[10, 18, 7, 23]\n",
      "14 14\n",
      "[10, 18, 7, 23]\n",
      "14 14\n",
      "[10, 20, 24, 49]\n",
      "25 25\n",
      "[3, 7, 17]\n",
      "9 9\n",
      "[1]\n",
      "1 1\n",
      "[1000]\n",
      "1000 1000\n",
      "[1, 2, 3]\n",
      "2 2\n",
      "[1, 2, 3, 4]\n",
      "2 2\n",
      "[1, 1000]\n",
      "500 500\n",
      "[100, 1000]\n",
      "550 500\n",
      "[10, 10, 2, 3]\n",
      "6 6\n",
      "[3, 7, 17, 3]\n",
      "7 7\n"
     ]
    }
   ],
   "source": [
    "#solution(\t[[0, 3], [1, 9], [2, 6]])\n",
    "print(solution([[0, 10], [2, 10], [9, 10], [15, 2]]), 14)\n",
    "print(solution([[0, 10], [2, 10], [9, 10], [15, 2]]), 14)\n",
    "print(solution([[0, 10], [2, 12], [9, 19], [15, 17]]), 25)\n",
    "print(solution([[0, 3], [1, 9], [2, 6]]), 9)\n",
    "print(solution([[0, 1]]), 1)\n",
    "print(solution([[1000, 1000]]), 1000)\n",
    "print(solution([[0, 1], [0, 1], [0, 1]]), 2)\n",
    "print(solution([[0, 1], [0, 1], [0, 1], [0, 1]]), 2)\n",
    "print(solution([[0, 1], [1000, 1000]]), 500)\n",
    "print(solution([[100, 100], [1000, 1000]]), 500)\n",
    "print(solution([[10, 10], [30, 10], [50, 2], [51, 2]]), 6)\n",
    "print(solution([[0, 3], [1, 9], [2, 6], [30, 3]]), 7)"
   ]
  },
  {
   "cell_type": "code",
   "execution_count": 49,
   "metadata": {},
   "outputs": [
    {
     "data": {
      "text/plain": [
       "[1, 2, 3, 4]"
      ]
     },
     "execution_count": 49,
     "metadata": {},
     "output_type": "execute_result"
    }
   ],
   "source": [
    "heap=[]\n",
    "heapq.heappush(heap,1)\n",
    "heapq.heappush(heap,2)\n",
    "heapq.heappush(heap,3)\n",
    "heapq.heappush(heap,4)\n",
    "heap"
   ]
  },
  {
   "cell_type": "code",
   "execution_count": 52,
   "metadata": {},
   "outputs": [],
   "source": [
    "heap.remove(3)"
   ]
  },
  {
   "cell_type": "code",
   "execution_count": 53,
   "metadata": {},
   "outputs": [
    {
     "data": {
      "text/plain": [
       "[1, 2, 4]"
      ]
     },
     "execution_count": 53,
     "metadata": {},
     "output_type": "execute_result"
    }
   ],
   "source": [
    "heap"
   ]
  },
  {
   "cell_type": "code",
   "execution_count": 56,
   "metadata": {},
   "outputs": [],
   "source": [
    "list_=[[1, 9], [2, 6]]"
   ]
  },
  {
   "cell_type": "code",
   "execution_count": 58,
   "metadata": {},
   "outputs": [
    {
     "ename": "AttributeError",
     "evalue": "'list' object has no attribute 'find'",
     "output_type": "error",
     "traceback": [
      "\u001b[1;31m---------------------------------------------------------------------------\u001b[0m",
      "\u001b[1;31mAttributeError\u001b[0m                            Traceback (most recent call last)",
      "\u001b[1;32m<ipython-input-58-d966707b848d>\u001b[0m in \u001b[0;36m<module>\u001b[1;34m()\u001b[0m\n\u001b[1;32m----> 1\u001b[1;33m \u001b[0mlist_\u001b[0m\u001b[1;33m.\u001b[0m\u001b[0mfind\u001b[0m\u001b[1;33m(\u001b[0m \u001b[1;33m[\u001b[0m\u001b[1;36m2\u001b[0m\u001b[1;33m,\u001b[0m \u001b[1;36m6\u001b[0m\u001b[1;33m]\u001b[0m\u001b[1;33m)\u001b[0m\u001b[1;33m\u001b[0m\u001b[1;33m\u001b[0m\u001b[0m\n\u001b[0m",
      "\u001b[1;31mAttributeError\u001b[0m: 'list' object has no attribute 'find'"
     ]
    }
   ],
   "source": [
    "list_.find( [2, 6])"
   ]
  },
  {
   "cell_type": "code",
   "execution_count": 76,
   "metadata": {},
   "outputs": [
    {
     "name": "stdout",
     "output_type": "stream",
     "text": [
      "0 [[0, 10], [2, 10], [9, 10], [15, 2]]\n",
      "10 [[2, 10], [15, 2], [9, 10]]\n",
      "14 14\n",
      "0 [[0, 10], [2, 10], [9, 10], [15, 2]]\n",
      "10 [[2, 10], [15, 2], [9, 10]]\n",
      "14 14\n",
      "0 [[0, 10], [2, 12], [9, 19], [15, 17]]\n",
      "10 [[2, 12], [15, 17], [9, 19]]\n",
      "25 25\n",
      "0 [[0, 3], [1, 9], [2, 6]]\n",
      "3 [[1, 9], [2, 6]]\n",
      "9 9\n",
      "0 [[0, 1]]\n",
      "1 []\n",
      "1 1\n",
      "0 [[1000, 1000]]\n",
      "1000 []\n",
      "0 1000\n",
      "0 [[0, 1], [0, 1], [0, 1]]\n",
      "1 [[0, 1], [0, 1]]\n",
      "2 2\n",
      "0 [[0, 1], [0, 1], [0, 1], [0, 1]]\n",
      "1 [[0, 1], [0, 1], [0, 1]]\n",
      "2 2\n",
      "0 [[0, 1], [1000, 1000]]\n",
      "1 [[1000, 1000]]\n"
     ]
    },
    {
     "ename": "ValueError",
     "evalue": "list.remove(x): x not in list",
     "output_type": "error",
     "traceback": [
      "\u001b[1;31m---------------------------------------------------------------------------\u001b[0m",
      "\u001b[1;31mValueError\u001b[0m                                Traceback (most recent call last)",
      "\u001b[1;32m<ipython-input-76-46d58e61ba23>\u001b[0m in \u001b[0;36m<module>\u001b[1;34m()\u001b[0m\n\u001b[0;32m      8\u001b[0m \u001b[0mprint\u001b[0m\u001b[1;33m(\u001b[0m\u001b[0msolution\u001b[0m\u001b[1;33m(\u001b[0m\u001b[1;33m[\u001b[0m\u001b[1;33m[\u001b[0m\u001b[1;36m0\u001b[0m\u001b[1;33m,\u001b[0m \u001b[1;36m1\u001b[0m\u001b[1;33m]\u001b[0m\u001b[1;33m,\u001b[0m \u001b[1;33m[\u001b[0m\u001b[1;36m0\u001b[0m\u001b[1;33m,\u001b[0m \u001b[1;36m1\u001b[0m\u001b[1;33m]\u001b[0m\u001b[1;33m,\u001b[0m \u001b[1;33m[\u001b[0m\u001b[1;36m0\u001b[0m\u001b[1;33m,\u001b[0m \u001b[1;36m1\u001b[0m\u001b[1;33m]\u001b[0m\u001b[1;33m]\u001b[0m\u001b[1;33m)\u001b[0m\u001b[1;33m,\u001b[0m \u001b[1;36m2\u001b[0m\u001b[1;33m)\u001b[0m\u001b[1;33m\u001b[0m\u001b[1;33m\u001b[0m\u001b[0m\n\u001b[0;32m      9\u001b[0m \u001b[0mprint\u001b[0m\u001b[1;33m(\u001b[0m\u001b[0msolution\u001b[0m\u001b[1;33m(\u001b[0m\u001b[1;33m[\u001b[0m\u001b[1;33m[\u001b[0m\u001b[1;36m0\u001b[0m\u001b[1;33m,\u001b[0m \u001b[1;36m1\u001b[0m\u001b[1;33m]\u001b[0m\u001b[1;33m,\u001b[0m \u001b[1;33m[\u001b[0m\u001b[1;36m0\u001b[0m\u001b[1;33m,\u001b[0m \u001b[1;36m1\u001b[0m\u001b[1;33m]\u001b[0m\u001b[1;33m,\u001b[0m \u001b[1;33m[\u001b[0m\u001b[1;36m0\u001b[0m\u001b[1;33m,\u001b[0m \u001b[1;36m1\u001b[0m\u001b[1;33m]\u001b[0m\u001b[1;33m,\u001b[0m \u001b[1;33m[\u001b[0m\u001b[1;36m0\u001b[0m\u001b[1;33m,\u001b[0m \u001b[1;36m1\u001b[0m\u001b[1;33m]\u001b[0m\u001b[1;33m]\u001b[0m\u001b[1;33m)\u001b[0m\u001b[1;33m,\u001b[0m \u001b[1;36m2\u001b[0m\u001b[1;33m)\u001b[0m\u001b[1;33m\u001b[0m\u001b[1;33m\u001b[0m\u001b[0m\n\u001b[1;32m---> 10\u001b[1;33m \u001b[0mprint\u001b[0m\u001b[1;33m(\u001b[0m\u001b[0msolution\u001b[0m\u001b[1;33m(\u001b[0m\u001b[1;33m[\u001b[0m\u001b[1;33m[\u001b[0m\u001b[1;36m0\u001b[0m\u001b[1;33m,\u001b[0m \u001b[1;36m1\u001b[0m\u001b[1;33m]\u001b[0m\u001b[1;33m,\u001b[0m \u001b[1;33m[\u001b[0m\u001b[1;36m1000\u001b[0m\u001b[1;33m,\u001b[0m \u001b[1;36m1000\u001b[0m\u001b[1;33m]\u001b[0m\u001b[1;33m]\u001b[0m\u001b[1;33m)\u001b[0m\u001b[1;33m,\u001b[0m \u001b[1;36m500\u001b[0m\u001b[1;33m)\u001b[0m\u001b[1;33m\u001b[0m\u001b[1;33m\u001b[0m\u001b[0m\n\u001b[0m\u001b[0;32m     11\u001b[0m \u001b[0mprint\u001b[0m\u001b[1;33m(\u001b[0m\u001b[0msolution\u001b[0m\u001b[1;33m(\u001b[0m\u001b[1;33m[\u001b[0m\u001b[1;33m[\u001b[0m\u001b[1;36m100\u001b[0m\u001b[1;33m,\u001b[0m \u001b[1;36m100\u001b[0m\u001b[1;33m]\u001b[0m\u001b[1;33m,\u001b[0m \u001b[1;33m[\u001b[0m\u001b[1;36m1000\u001b[0m\u001b[1;33m,\u001b[0m \u001b[1;36m1000\u001b[0m\u001b[1;33m]\u001b[0m\u001b[1;33m]\u001b[0m\u001b[1;33m)\u001b[0m\u001b[1;33m,\u001b[0m \u001b[1;36m500\u001b[0m\u001b[1;33m)\u001b[0m\u001b[1;33m\u001b[0m\u001b[1;33m\u001b[0m\u001b[0m\n\u001b[0;32m     12\u001b[0m \u001b[0mprint\u001b[0m\u001b[1;33m(\u001b[0m\u001b[0msolution\u001b[0m\u001b[1;33m(\u001b[0m\u001b[1;33m[\u001b[0m\u001b[1;33m[\u001b[0m\u001b[1;36m10\u001b[0m\u001b[1;33m,\u001b[0m \u001b[1;36m10\u001b[0m\u001b[1;33m]\u001b[0m\u001b[1;33m,\u001b[0m \u001b[1;33m[\u001b[0m\u001b[1;36m30\u001b[0m\u001b[1;33m,\u001b[0m \u001b[1;36m10\u001b[0m\u001b[1;33m]\u001b[0m\u001b[1;33m,\u001b[0m \u001b[1;33m[\u001b[0m\u001b[1;36m50\u001b[0m\u001b[1;33m,\u001b[0m \u001b[1;36m2\u001b[0m\u001b[1;33m]\u001b[0m\u001b[1;33m,\u001b[0m \u001b[1;33m[\u001b[0m\u001b[1;36m51\u001b[0m\u001b[1;33m,\u001b[0m \u001b[1;36m2\u001b[0m\u001b[1;33m]\u001b[0m\u001b[1;33m]\u001b[0m\u001b[1;33m)\u001b[0m\u001b[1;33m,\u001b[0m \u001b[1;36m6\u001b[0m\u001b[1;33m)\u001b[0m\u001b[1;33m\u001b[0m\u001b[1;33m\u001b[0m\u001b[0m\n",
      "\u001b[1;32m<ipython-input-75-4b9d8a3da3a5>\u001b[0m in \u001b[0;36msolution\u001b[1;34m(jobs)\u001b[0m\n\u001b[0;32m     26\u001b[0m         \u001b[0mnow_time\u001b[0m \u001b[1;33m+=\u001b[0m \u001b[0mnow_heap\u001b[0m\u001b[1;33m[\u001b[0m\u001b[1;36m1\u001b[0m\u001b[1;33m]\u001b[0m\u001b[1;33m\u001b[0m\u001b[1;33m\u001b[0m\u001b[0m\n\u001b[0;32m     27\u001b[0m         \u001b[0mresult_list\u001b[0m\u001b[1;33m.\u001b[0m\u001b[0mappend\u001b[0m\u001b[1;33m(\u001b[0m\u001b[0mnow_time\u001b[0m \u001b[1;33m-\u001b[0m\u001b[0mnow_heap\u001b[0m\u001b[1;33m[\u001b[0m\u001b[1;36m0\u001b[0m\u001b[1;33m]\u001b[0m \u001b[1;33m)\u001b[0m\u001b[1;33m\u001b[0m\u001b[1;33m\u001b[0m\u001b[0m\n\u001b[1;32m---> 28\u001b[1;33m         \u001b[0mheap\u001b[0m\u001b[1;33m.\u001b[0m\u001b[0mremove\u001b[0m\u001b[1;33m(\u001b[0m\u001b[0mnow_heap\u001b[0m\u001b[1;33m)\u001b[0m\u001b[1;33m\u001b[0m\u001b[1;33m\u001b[0m\u001b[0m\n\u001b[0m\u001b[0;32m     29\u001b[0m \u001b[1;33m\u001b[0m\u001b[0m\n\u001b[0;32m     30\u001b[0m \u001b[1;33m\u001b[0m\u001b[0m\n",
      "\u001b[1;31mValueError\u001b[0m: list.remove(x): x not in list"
     ]
    }
   ],
   "source": [
    "#solution(\t[[0, 3], [1, 9], [2, 6]])\n",
    "print(solution([[0, 10], [2, 10], [9, 10], [15, 2]]), 14)\n",
    "print(solution([[0, 10], [2, 10], [9, 10], [15, 2]]), 14)\n",
    "print(solution([[0, 10], [2, 12], [9, 19], [15, 17]]), 25)\n",
    "print(solution([[0, 3], [1, 9], [2, 6]]), 9)\n",
    "print(solution([[0, 1]]), 1)\n",
    "print(solution([[1000, 1000]]), 1000)\n",
    "print(solution([[0, 1], [0, 1], [0, 1]]), 2)\n",
    "print(solution([[0, 1], [0, 1], [0, 1], [0, 1]]), 2)\n",
    "print(solution([[0, 1], [1000, 1000]]), 500)\n",
    "print(solution([[100, 100], [1000, 1000]]), 500)\n",
    "print(solution([[10, 10], [30, 10], [50, 2], [51, 2]]), 6)\n",
    "print(solution([[0, 3], [1, 9], [2, 6], [30, 3]]), 7)"
   ]
  },
  {
   "cell_type": "code",
   "execution_count": null,
   "metadata": {},
   "outputs": [],
   "source": []
  }
 ],
 "metadata": {
  "kernelspec": {
   "display_name": "Python 3",
   "language": "python",
   "name": "python3"
  },
  "language_info": {
   "codemirror_mode": {
    "name": "ipython",
    "version": 3
   },
   "file_extension": ".py",
   "mimetype": "text/x-python",
   "name": "python",
   "nbconvert_exporter": "python",
   "pygments_lexer": "ipython3",
   "version": "3.7.6"
  }
 },
 "nbformat": 4,
 "nbformat_minor": 4
}
