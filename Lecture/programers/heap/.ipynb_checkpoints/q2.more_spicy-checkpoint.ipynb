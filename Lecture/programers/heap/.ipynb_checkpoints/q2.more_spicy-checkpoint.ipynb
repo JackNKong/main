{
 "cells": [
  {
   "cell_type": "code",
   "execution_count": null,
   "metadata": {},
   "outputs": [],
   "source": []
  },
  {
   "cell_type": "code",
   "execution_count": 28,
   "metadata": {},
   "outputs": [],
   "source": [
    "import heapq\n",
    "\n",
    "def heap_sort(nums):\n",
    "    heap = []\n",
    "    for num in nums:\n",
    "        heapq.heappush(heap, num)\n",
    "\n",
    "        sorted_nums = []\n",
    "    while heap:\n",
    "        sorted_nums.append(heapq.heappop(heap))\n",
    "    return sorted_nums\n",
    "\n",
    "\n",
    "\n",
    "def solution(scoville, K):\n",
    "    answer = 0\n",
    "    scoville=heap_sort(scoville)\n",
    "    try :\n",
    "        while min(scoville) < K :\n",
    "\n",
    "            tmp_num =scoville[0] +scoville[1] *2\n",
    "            #tmp_2 = scoville[1] \n",
    "            scoville = scoville[2:]\n",
    "            scoville.append(tmp_num)\n",
    "            scoville=heap_sort(scoville)\n",
    "            answer +=1\n",
    "    #if \n",
    "        return answer\n",
    "    except :\n",
    "        return -1"
   ]
  },
  {
   "cell_type": "code",
   "execution_count": 35,
   "metadata": {},
   "outputs": [
    {
     "name": "stdout",
     "output_type": "stream",
     "text": [
      "1\n"
     ]
    }
   ],
   "source": [
    "nums = [4, 1, 7, 3, 8, 5]\n",
    "for num in nums:\n",
    "    heapq.heappush(heap, num)\n",
    "while heap :\n",
    "    print(heapq.heappop(heap))"
   ]
  },
  {
   "cell_type": "code",
   "execution_count": 44,
   "metadata": {},
   "outputs": [],
   "source": [
    "def solution(scoville, K):\n",
    "    answer = 0\n",
    "    heap = [] \n",
    "    for num in scoville:\n",
    "        heapq.heappush(heap, num)\n",
    "        \n",
    "    heap_check =True\n",
    "    try :\n",
    "        while heap :\n",
    "            min_num = heapq.heappop(heap)\n",
    "            if min_num < K : \n",
    "                min_num2 = heapq.heappop(heap)\n",
    "                next_num = min_num + min_num2*2\n",
    "                heapq.heappush(heap, next_num)\n",
    "                answer +=1\n",
    "            else : heap_check =False\n",
    "        return answer\n",
    "    except :\n",
    "        return -1\n",
    "    "
   ]
  },
  {
   "cell_type": "code",
   "execution_count": 45,
   "metadata": {},
   "outputs": [
    {
     "name": "stdout",
     "output_type": "stream",
     "text": [
      "2 2\n",
      "4 4\n",
      "2 2\n",
      "2 2\n",
      "3 3\n",
      "-1 -1\n",
      "-1 -1\n",
      "0 0\n",
      "2 2\n",
      "0 0\n",
      "-1 -1\n",
      "1 1\n"
     ]
    }
   ],
   "source": [
    "print(solution([1, 1, 1], 4), 2)\n",
    "print(solution([10, 10, 10, 10, 10], 100), 4)\n",
    "print(solution([1, 2, 3, 9, 10, 12], 7), 2)\n",
    "print(solution([0, 2, 3, 9, 10, 12], 7), 2)\n",
    "print(solution([0, 0, 3, 9, 10, 12], 7), 3)\n",
    "print(solution([0, 0, 0, 0], 7), -1)\n",
    "print(solution([0, 0, 3, 9, 10, 12], 7000), -1)\n",
    "print(solution([0, 0, 3, 9, 10, 12], 0), 0)\n",
    "print(solution([0, 0, 3, 9, 10, 12], 1), 2)\n",
    "print(solution([0, 0], 0), 0)\n",
    "print(solution([0, 0], 1), -1)\n",
    "print(solution([1, 0], 1), 1)"
   ]
  },
  {
   "cell_type": "code",
   "execution_count": null,
   "metadata": {},
   "outputs": [],
   "source": []
  },
  {
   "cell_type": "code",
   "execution_count": null,
   "metadata": {},
   "outputs": [],
   "source": []
  }
 ],
 "metadata": {
  "kernelspec": {
   "display_name": "Python 3",
   "language": "python",
   "name": "python3"
  },
  "language_info": {
   "codemirror_mode": {
    "name": "ipython",
    "version": 3
   },
   "file_extension": ".py",
   "mimetype": "text/x-python",
   "name": "python",
   "nbconvert_exporter": "python",
   "pygments_lexer": "ipython3",
   "version": "3.7.6"
  }
 },
 "nbformat": 4,
 "nbformat_minor": 4
}
