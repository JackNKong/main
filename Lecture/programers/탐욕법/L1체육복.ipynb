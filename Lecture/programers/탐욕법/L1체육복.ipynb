{
 "cells": [
  {
   "cell_type": "code",
   "execution_count": 69,
   "metadata": {},
   "outputs": [],
   "source": [
    "def solution(n, lost, reserve):\n",
    "    answer = 0\n",
    "    result = {}\n",
    "    for i in range(1,n+1) :\n",
    "        #tmp_dic={}\n",
    "        result[i] = 1\n",
    "        #result.append(tmp_dic)\n",
    "    #없는친구 계산\n",
    "    for lost_num in lost :\n",
    "        result[lost_num] = result[lost_num]-1\n",
    "    #여분인 친구\n",
    "    for reserve_num in reserve :\n",
    "        result[reserve_num] = result[reserve_num]+1\n",
    "    \n",
    "    #전달하기\n",
    "    print(result)\n",
    "    #1개를 먼저주고 뒤에서 받을 수도 있음\n",
    "    for i in result.keys() : \n",
    "        if i == 1 and result[i]==0 and result[2]>1 :\n",
    "            #result[0] = 1\n",
    "            result[1] = 1\n",
    "            result[2] = result[2]-1\n",
    "            \n",
    "            \n",
    "            \n",
    "        elif i > 1 and i < len(result) and result[i] == 0 and result[i-1] ==2 : \n",
    "            #if v == 0 :\n",
    "\n",
    "            result[i-1] = result[i-1] - 1\n",
    "            result[i] = result[i] +1\n",
    "            \n",
    "        elif i > 1 and i < len(result) and result[i] == 0 and result[i+1] == 2: \n",
    "            result[i+1] = result[i+1] - 1\n",
    "            result[i] = result[i] + 1\n",
    "                    \n",
    "        elif i == len(result) and result[i]==0 and result[len(result)-1]>1:\n",
    "            result[len(result)] = result[len(result)]+1\n",
    "            result[len(result)-1] = result[len(result)-1] -1\n",
    "            \n",
    "                \n",
    "    print(result)\n",
    "    for v in result.values() :\n",
    "        if v > 0 : answer += 1\n",
    "    \n",
    "    return answer"
   ]
  },
  {
   "cell_type": "code",
   "execution_count": 70,
   "metadata": {},
   "outputs": [
    {
     "name": "stdout",
     "output_type": "stream",
     "text": [
      "{1: 0, 2: 1, 3: 1, 4: 2, 5: 1}\n",
      "{1: 0, 2: 1, 3: 1, 4: 2, 5: 1}\n"
     ]
    },
    {
     "data": {
      "text/plain": [
       "4"
      ]
     },
     "execution_count": 70,
     "metadata": {},
     "output_type": "execute_result"
    }
   ],
   "source": [
    "solution(5,[1,2,3],[2,3,4]) "
   ]
  },
  {
   "cell_type": "code",
   "execution_count": 24,
   "metadata": {},
   "outputs": [
    {
     "data": {
      "text/plain": [
       "{1: 1, 2: 1, 3: 1, 4: 1, 5: 2}"
      ]
     },
     "execution_count": 24,
     "metadata": {},
     "output_type": "execute_result"
    }
   ],
   "source": [
    "dic = {1: 2, 2: 0, 3: 2, 4: 0, 5: 2}\n",
    "for i,v in dic.items() : \n",
    "    if v == 0 :\n",
    "        if dic[i-1] ==2 and i >0 :\n",
    "            dic[i-1] = 1\n",
    "            dic[i] = 1\n",
    "        elif dic[i+1] == 2 and i < len(dic):\n",
    "            dic[i+1] = 1\n",
    "            dic[i] = 1\n",
    "        \n",
    "dic"
   ]
  },
  {
   "cell_type": "code",
   "execution_count": 41,
   "metadata": {},
   "outputs": [
    {
     "data": {
      "text/plain": [
       "5"
      ]
     },
     "execution_count": 41,
     "metadata": {},
     "output_type": "execute_result"
    }
   ],
   "source": [
    "len(dic)"
   ]
  },
  {
   "cell_type": "code",
   "execution_count": null,
   "metadata": {},
   "outputs": [],
   "source": []
  }
 ],
 "metadata": {
  "kernelspec": {
   "display_name": "Python 3",
   "language": "python",
   "name": "python3"
  },
  "language_info": {
   "codemirror_mode": {
    "name": "ipython",
    "version": 3
   },
   "file_extension": ".py",
   "mimetype": "text/x-python",
   "name": "python",
   "nbconvert_exporter": "python",
   "pygments_lexer": "ipython3",
   "version": "3.7.6"
  }
 },
 "nbformat": 4,
 "nbformat_minor": 4
}
