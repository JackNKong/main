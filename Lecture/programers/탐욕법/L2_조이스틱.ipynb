{
 "cells": [
  {
   "cell_type": "code",
   "execution_count": 106,
   "metadata": {},
   "outputs": [],
   "source": [
    "def change_txt(txt) : \n",
    "    a_num = ord(txt) - 65 \n",
    "    b_num = 90 - ord(txt) +1\n",
    "    min_ab = min(a_num, b_num)\n",
    "    return min_ab\n",
    "\n",
    "def solution(name):\n",
    "    name_list = list(name)\n",
    "    str_ ='A' * len(name_list)\n",
    "    now_list = list(str_)\n",
    "   \n",
    "    answer = 0\n",
    "    #name_list.sort()\n",
    "    #print(name_list,now_list)\n",
    "    \n",
    "    cursor = 0\n",
    "    while  name_list != now_list :\n",
    "        \n",
    "        if name_list[cursor] != now_list[cursor]:\n",
    "            answer = answer + change_txt(name_list[cursor])\n",
    "            now_list[cursor] = name_list[cursor]\n",
    "            print('텍스트변경',cursor,change_txt(name_list[cursor]),answer)\n",
    "            print(name_list,now_list)\n",
    "        #finding\n",
    "        find_index = 1\n",
    "        #while name_list != now_list :\n",
    "        while cursor+find_index < len(name_list) and abs(cursor-find_index) <len(name_list):\n",
    "            if name_list[cursor+find_index] != now_list[cursor+find_index] : \n",
    "                cursor = cursor + find_index\n",
    "                answer = answer + find_index\n",
    "                print('우로한칸',cursor,find_index)\n",
    "                break\n",
    "                #\n",
    "            elif name_list[cursor-find_index] != now_list[cursor-find_index] : \n",
    "                cursor = cursor - find_index\n",
    "                answer = answer + find_index\n",
    "                print('좌한칸',cursor,find_index)\n",
    "                break\n",
    "                #p\n",
    "            else : \n",
    "                find_index = find_index + 1\n",
    "                print(find_index)\n",
    "                #break\n",
    "    return answer\n",
    "\n"
   ]
  },
  {
   "cell_type": "code",
   "execution_count": 108,
   "metadata": {},
   "outputs": [
    {
     "name": "stdout",
     "output_type": "stream",
     "text": [
      "텍스트변경 0 1 1\n",
      "['B', 'B', 'B', 'A', 'A', 'A', 'B'] ['B', 'A', 'A', 'A', 'A', 'A', 'A']\n",
      "우로한칸 1 1\n",
      "텍스트변경 1 1 3\n",
      "['B', 'B', 'B', 'A', 'A', 'A', 'B'] ['B', 'B', 'A', 'A', 'A', 'A', 'A']\n",
      "우로한칸 2 1\n",
      "텍스트변경 2 1 5\n",
      "['B', 'B', 'B', 'A', 'A', 'A', 'B'] ['B', 'B', 'B', 'A', 'A', 'A', 'A']\n",
      "2\n",
      "3\n",
      "좌한칸 -1 3\n",
      "텍스트변경 -1 1 9\n",
      "['B', 'B', 'B', 'A', 'A', 'A', 'B'] ['B', 'B', 'B', 'A', 'A', 'A', 'B']\n",
      "2\n",
      "3\n",
      "4\n",
      "5\n",
      "6\n"
     ]
    },
    {
     "data": {
      "text/plain": [
       "9"
      ]
     },
     "execution_count": 108,
     "metadata": {},
     "output_type": "execute_result"
    }
   ],
   "source": [
    "solution('BBBAAAB')"
   ]
  },
  {
   "cell_type": "code",
   "execution_count": 105,
   "metadata": {},
   "outputs": [
    {
     "data": {
      "text/plain": [
       "13"
      ]
     },
     "execution_count": 105,
     "metadata": {},
     "output_type": "execute_result"
    }
   ],
   "source": [
    "abs(-13)"
   ]
  },
  {
   "cell_type": "code",
   "execution_count": 18,
   "metadata": {},
   "outputs": [
    {
     "data": {
      "text/plain": [
       "78"
      ]
     },
     "execution_count": 18,
     "metadata": {},
     "output_type": "execute_result"
    }
   ],
   "source": [
    "ord(\"N\")"
   ]
  },
  {
   "cell_type": "code",
   "execution_count": null,
   "metadata": {},
   "outputs": [],
   "source": []
  }
 ],
 "metadata": {
  "kernelspec": {
   "display_name": "Python 3",
   "language": "python",
   "name": "python3"
  },
  "language_info": {
   "codemirror_mode": {
    "name": "ipython",
    "version": 3
   },
   "file_extension": ".py",
   "mimetype": "text/x-python",
   "name": "python",
   "nbconvert_exporter": "python",
   "pygments_lexer": "ipython3",
   "version": "3.7.6"
  }
 },
 "nbformat": 4,
 "nbformat_minor": 4
}
