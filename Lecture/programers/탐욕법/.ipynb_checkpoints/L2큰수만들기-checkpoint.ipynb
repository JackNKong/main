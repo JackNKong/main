{
 "cells": [
  {
   "cell_type": "code",
   "execution_count": 92,
   "metadata": {},
   "outputs": [],
   "source": [
    "from collections import Counter\n",
    "\n",
    "def solution(number, k):\n",
    "    answer = ''\n",
    "    str_list = list(number)\n",
    "    \n",
    "    str_counter = Counter(str_list)\n",
    "    counter_dic = dict(str_counter)\n",
    "    counter_dic = sorted(counter_dic.items(), key = lambda item : item[0],reverse =True)\n",
    "    print(str_list,counter_dic)\n",
    "    k_test = 0\n",
    "    max_num = 0\n",
    "    for counter in counter_dic :\n",
    "        k_test += counter[1]\n",
    "        max_num = counter[0]\n",
    "        \n",
    "        if k_test >= k :\n",
    "            print(\"max_num : \", max_num)\n",
    "            break\n",
    "            \n",
    "    answer_list = []\n",
    "    del_num = 0\n",
    "    i=0\n",
    "    while i < len(str_list):\n",
    "        test_txt = str_list[i]\n",
    "        print(test_txt)\n",
    "        if int(test_txt) < int(max_num) and del_num < k : \n",
    "            del_num+=1\n",
    "\n",
    "        else : answer_list.append(test_txt)\n",
    "            #print(k_test,max_num)\n",
    "        i +=1\n",
    "    print(answer_list)\n",
    "    answer = ''.join(answer_list)\n",
    "    return answer"
   ]
  },
  {
   "cell_type": "code",
   "execution_count": 97,
   "metadata": {},
   "outputs": [
    {
     "name": "stdout",
     "output_type": "stream",
     "text": [
      "['8', '7', '6', '5', '4', '3', '2', '1'] [('8', 1), ('7', 1), ('6', 1), ('5', 1), ('4', 1), ('3', 1), ('2', 1), ('1', 1)]\n",
      "max_num :  6\n",
      "8\n",
      "7\n",
      "6\n",
      "5\n",
      "4\n",
      "3\n",
      "2\n",
      "1\n",
      "['8', '7', '6', '2', '1']\n"
     ]
    },
    {
     "data": {
      "text/plain": [
       "'87621'"
      ]
     },
     "execution_count": 97,
     "metadata": {},
     "output_type": "execute_result"
    }
   ],
   "source": [
    "solution(\"87654321\",3)"
   ]
  },
  {
   "cell_type": "code",
   "execution_count": 98,
   "metadata": {},
   "outputs": [
    {
     "data": {
      "text/plain": [
       "['1', '2', '3', '1', '2', '3', '4']"
      ]
     },
     "execution_count": 98,
     "metadata": {},
     "output_type": "execute_result"
    }
   ],
   "source": [
    "str_list"
   ]
  },
  {
   "cell_type": "code",
   "execution_count": 84,
   "metadata": {},
   "outputs": [],
   "source": [
    "answer = ''.join(['3', '2', '3', '4'])"
   ]
  },
  {
   "cell_type": "code",
   "execution_count": 85,
   "metadata": {},
   "outputs": [
    {
     "data": {
      "text/plain": [
       "'3234'"
      ]
     },
     "execution_count": 85,
     "metadata": {},
     "output_type": "execute_result"
    }
   ],
   "source": [
    "answer"
   ]
  },
  {
   "cell_type": "code",
   "execution_count": null,
   "metadata": {},
   "outputs": [],
   "source": []
  }
 ],
 "metadata": {
  "kernelspec": {
   "display_name": "Python 3",
   "language": "python",
   "name": "python3"
  },
  "language_info": {
   "codemirror_mode": {
    "name": "ipython",
    "version": 3
   },
   "file_extension": ".py",
   "mimetype": "text/x-python",
   "name": "python",
   "nbconvert_exporter": "python",
   "pygments_lexer": "ipython3",
   "version": "3.7.6"
  }
 },
 "nbformat": 4,
 "nbformat_minor": 4
}
