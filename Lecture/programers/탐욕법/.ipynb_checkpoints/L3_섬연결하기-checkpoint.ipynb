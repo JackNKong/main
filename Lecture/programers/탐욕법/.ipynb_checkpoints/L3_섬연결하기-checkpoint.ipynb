{
 "cells": [
  {
   "cell_type": "code",
   "execution_count": 98,
   "metadata": {},
   "outputs": [],
   "source": [
    "def solution(n, costs):\n",
    "    answer = 0\n",
    "    now_list = []\n",
    "    \n",
    "    node_list = [i[0] for i in costs ]\n",
    "    #tmp_cost_list = cost_list\n",
    "    #first_node = \n",
    "    new_cost_list=[]\n",
    "    corsor = True\n",
    "    while corsor :\n",
    "        #cost_list=list(set(cost_list))\n",
    "        #tmp_cost_list=list(set(tmp_cost_list))\n",
    "        cost_list = [i[2] for i in costs ]\n",
    "        min_cost = min(cost_list)\n",
    "        min_cost_index = cost_list.index(min_cost)\n",
    "        now_cost = costs.pop(min_cost_index)\n",
    "        \n",
    "        #now_list=list(set(now_list))\n",
    "        \n",
    "        befor_now_list = list(set(now_list))\n",
    "        #첫번째 지점\n",
    "        now_list.append(now_cost[0])\n",
    "        now_list.append(now_cost[1])\n",
    "        now_list=list(set(now_list))\n",
    "        print(befor_now_list,now_list,costs,min_cost)\n",
    "        if set(befor_now_list) == set(now_list) :\n",
    "            pass\n",
    "        else :\n",
    "             answer += min_cost\n",
    "                \n",
    "        if set(now_list) == set(node_list) or len(costs)==0 : corsor = False\n",
    "        \n",
    "    return answer"
   ]
  },
  {
   "cell_type": "code",
   "execution_count": 99,
   "metadata": {},
   "outputs": [
    {
     "name": "stdout",
     "output_type": "stream",
     "text": [
      "[] [0, 1] [[3, 4, 1], [1, 2, 2], [2, 3, 4]] 1\n",
      "[0, 1] [0, 1, 3, 4] [[1, 2, 2], [2, 3, 4]] 1\n",
      "[0, 1, 3, 4] [0, 1, 2, 3, 4] [[2, 3, 4]] 2\n",
      "[0, 1, 2, 3, 4] [0, 1, 2, 3, 4] [] 4\n"
     ]
    },
    {
     "data": {
      "text/plain": [
       "4"
      ]
     },
     "execution_count": 99,
     "metadata": {},
     "output_type": "execute_result"
    }
   ],
   "source": [
    "solution(5,[[0, 1, 1], [3, 4, 1], [1, 2, 2], [2, 3, 4]])"
   ]
  },
  {
   "cell_type": "code",
   "execution_count": 96,
   "metadata": {},
   "outputs": [
    {
     "name": "stdout",
     "output_type": "stream",
     "text": [
      "4 // 4\n",
      "15 // 15\n",
      "4 // 8\n",
      "9 // 9\n",
      "104 // 104\n"
     ]
    }
   ],
   "source": [
    "print(solution(4,[[0,1,1],[0,2,2],[1,2,5],[1,3,1],[2,3,8]]),'//',4)\n",
    "print(solution(5,[[0, 1, 5], [1, 2, 3], [2, 3, 3], [3, 1, 2], [3, 0, 4], [2, 4, 6], [4, 0, 7]] ),'//',15)\n",
    "print(solution(5,[[0, 1, 1], [3, 4, 1], [1, 2, 2], [2, 3, 4]]),'//',8)\n",
    "print(solution(4,[[0, 1, 5], [1, 2, 3], [2, 3, 3], [1, 3, 2], [0, 3, 4]]),'//',9)\n",
    "print(solution(5,[[0, 1, 1], [3, 1, 1], [0, 2, 2], [0, 3, 2], [0, 4, 100]]),'//',104)"
   ]
  },
  {
   "cell_type": "code",
   "execution_count": 75,
   "metadata": {},
   "outputs": [],
   "source": [
    "list_ = [1, 2, 5, 1, 8]"
   ]
  },
  {
   "cell_type": "code",
   "execution_count": 7,
   "metadata": {},
   "outputs": [
    {
     "name": "stdout",
     "output_type": "stream",
     "text": [
      "[1, 2, 5, 1, 8]\n"
     ]
    },
    {
     "data": {
      "text/plain": [
       "0"
      ]
     },
     "execution_count": 7,
     "metadata": {},
     "output_type": "execute_result"
    }
   ],
   "source": [
    "solution(4,[[0,1,1],[0,2,2],[1,2,5],[1,3,1],[2,3,8]])"
   ]
  },
  {
   "cell_type": "code",
   "execution_count": 8,
   "metadata": {},
   "outputs": [
    {
     "data": {
      "text/plain": [
       "0"
      ]
     },
     "execution_count": 8,
     "metadata": {},
     "output_type": "execute_result"
    }
   ],
   "source": [
    "list_.index(1)"
   ]
  },
  {
   "cell_type": "code",
   "execution_count": null,
   "metadata": {},
   "outputs": [],
   "source": []
  }
 ],
 "metadata": {
  "kernelspec": {
   "display_name": "Python 3",
   "language": "python",
   "name": "python3"
  },
  "language_info": {
   "codemirror_mode": {
    "name": "ipython",
    "version": 3
   },
   "file_extension": ".py",
   "mimetype": "text/x-python",
   "name": "python",
   "nbconvert_exporter": "python",
   "pygments_lexer": "ipython3",
   "version": "3.7.6"
  }
 },
 "nbformat": 4,
 "nbformat_minor": 4
}
