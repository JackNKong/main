{
 "cells": [
  {
   "cell_type": "code",
   "execution_count": 145,
   "metadata": {},
   "outputs": [],
   "source": [
    "def solution(n, edge):\n",
    "    answer = 0\n",
    "    search_list = [1]\n",
    "    #search_num = search_list[0]\n",
    "    \n",
    "    corsor=True\n",
    "    fin_list = []\n",
    "    while corsor :\n",
    "        next_list=[]\n",
    "        for search_num in search_list :\n",
    "            fin_list.append(search_num)\n",
    "            for edge_tuple in edge : \n",
    "                if edge_tuple[0]==search_num :\n",
    "                    next_list.append(edge_tuple[1])\n",
    "                if edge_tuple[1]==search_num :\n",
    "                    next_list.append(edge_tuple[0])\n",
    "\n",
    "\n",
    "        \n",
    "        next_list = set(next_list) - set(fin_list)\n",
    "        \n",
    "        \n",
    "        \n",
    "        if next_list : \n",
    "            pass\n",
    "            search_list = next_list\n",
    "            print(next_list)\n",
    "        else : \n",
    "            corsor =False\n",
    "            return len(search_list)\n",
    "    #return answer\n",
    "\n",
    "\n",
    "\n",
    "\n",
    "\n"
   ]
  },
  {
   "cell_type": "code",
   "execution_count": 146,
   "metadata": {},
   "outputs": [
    {
     "name": "stdout",
     "output_type": "stream",
     "text": [
      "{2, 3}\n",
      "{4, 5, 6}\n"
     ]
    },
    {
     "data": {
      "text/plain": [
       "3"
      ]
     },
     "execution_count": 146,
     "metadata": {},
     "output_type": "execute_result"
    }
   ],
   "source": [
    "solution(6,[[3, 6], [4, 3], [3, 2], [1, 3], [1, 2], [2, 4], [5, 2]])"
   ]
  },
  {
   "cell_type": "code",
   "execution_count": null,
   "metadata": {},
   "outputs": [],
   "source": []
  },
  {
   "cell_type": "code",
   "execution_count": null,
   "metadata": {},
   "outputs": [],
   "source": []
  }
 ],
 "metadata": {
  "kernelspec": {
   "display_name": "Python 3",
   "language": "python",
   "name": "python3"
  },
  "language_info": {
   "codemirror_mode": {
    "name": "ipython",
    "version": 3
   },
   "file_extension": ".py",
   "mimetype": "text/x-python",
   "name": "python",
   "nbconvert_exporter": "python",
   "pygments_lexer": "ipython3",
   "version": "3.7.6"
  }
 },
 "nbformat": 4,
 "nbformat_minor": 4
}
