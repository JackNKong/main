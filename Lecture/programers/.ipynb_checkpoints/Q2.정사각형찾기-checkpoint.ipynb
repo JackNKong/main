{
 "cells": [
  {
   "cell_type": "code",
   "execution_count": 15,
   "metadata": {},
   "outputs": [],
   "source": [
    "def find_longest_line (lis) :\n",
    "    line_list =[]\n",
    "    tmp_num =0\n",
    "    for li in lis :\n",
    "       \n",
    "        if li ==1 :tmp_num=tmp_num+1\n",
    "        else :\n",
    "            line_list.append(tmp_num)\n",
    "            tmp_num =0\n",
    "        line_list.append(tmp_num)\n",
    "    return(max(line_list))\n",
    "\n",
    "def solution(board):\n",
    "    answer = 1234\n",
    "    w_list = []\n",
    "    v_list = []\n",
    "    for i in range(1,len(board)):\n",
    "        for j in range(1,len(board[i])):\n",
    "            if board[i][j] == 0:\n",
    "                continue\n",
    "            else "
   ]
  },
  {
   "cell_type": "code",
   "execution_count": 16,
   "metadata": {},
   "outputs": [
    {
     "name": "stdout",
     "output_type": "stream",
     "text": [
      "[3, 4, 4, 1] [2, 3, 4, 3]\n"
     ]
    },
    {
     "data": {
      "text/plain": [
       "1234"
      ]
     },
     "execution_count": 16,
     "metadata": {},
     "output_type": "execute_result"
    }
   ],
   "source": [
    "solution([[0,1,1,1],[1,1,1,1],[1,1,1,1],[0,0,1,0]])"
   ]
  },
  {
   "cell_type": "code",
   "execution_count": null,
   "metadata": {},
   "outputs": [],
   "source": [
    "##https://whatisthenext.tistory.com/138"
   ]
  },
  {
   "cell_type": "code",
   "execution_count": 10,
   "metadata": {},
   "outputs": [
    {
     "data": {
      "text/plain": [
       "2"
      ]
     },
     "execution_count": 10,
     "metadata": {},
     "output_type": "execute_result"
    }
   ],
   "source": [
    "find_longest_line([0,1,1,0])\n"
   ]
  },
  {
   "cell_type": "code",
   "execution_count": null,
   "metadata": {},
   "outputs": [],
   "source": []
  }
 ],
 "metadata": {
  "kernelspec": {
   "display_name": "Python 3",
   "language": "python",
   "name": "python3"
  },
  "language_info": {
   "codemirror_mode": {
    "name": "ipython",
    "version": 3
   },
   "file_extension": ".py",
   "mimetype": "text/x-python",
   "name": "python",
   "nbconvert_exporter": "python",
   "pygments_lexer": "ipython3",
   "version": "3.7.6"
  }
 },
 "nbformat": 4,
 "nbformat_minor": 4
}
