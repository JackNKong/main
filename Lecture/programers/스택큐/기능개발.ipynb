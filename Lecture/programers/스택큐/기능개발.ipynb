{
 "cells": [
  {
   "cell_type": "code",
   "execution_count": 19,
   "metadata": {},
   "outputs": [],
   "source": [
    "########speeds도 팝해야함\n",
    "\n",
    "\n",
    "def solution(progresses, speeds):\n",
    "    answer = []\n",
    "    now_pro = progresses\n",
    "    \n",
    "    while len(now_pro) > 0 : \n",
    "        print(now_pro)\n",
    "        sum_=0\n",
    "        for i,(pro, speed) in enumerate(zip(now_pro,speeds)) : \n",
    "            now_pro[i] = now_pro[i]+speed\n",
    "\n",
    "        \n",
    "        while now_pro[0] >=100 :\n",
    "            now_pro.pop(0)\n",
    "            speeds.pop(0)\n",
    "            sum_=sum_+1\n",
    "            print(now_pro,sum_)\n",
    "            if len(now_pro) == 0 :\n",
    "                break\n",
    "        if sum_ > 0 :\n",
    "            answer.append(sum_)\n",
    "    return answer"
   ]
  },
  {
   "cell_type": "code",
   "execution_count": 20,
   "metadata": {},
   "outputs": [
    {
     "name": "stdout",
     "output_type": "stream",
     "text": [
      "[40, 93, 30, 55, 60, 65]\n",
      "[94, 60, 60, 70, 72] 1\n",
      "[94, 60, 60, 70, 72]\n",
      "[95, 90, 65, 80, 79]\n",
      "[96, 120, 70, 90, 86]\n",
      "[97, 150, 75, 100, 93]\n",
      "[98, 180, 80, 110, 100]\n",
      "[99, 210, 85, 120, 107]\n",
      "[240, 90, 130, 114] 1\n",
      "[90, 130, 114] 2\n",
      "[90, 130, 114]\n",
      "[95, 140, 121]\n",
      "[150, 128] 1\n",
      "[128] 2\n",
      "[] 3\n"
     ]
    },
    {
     "data": {
      "text/plain": [
       "[1, 2, 3]"
      ]
     },
     "execution_count": 20,
     "metadata": {},
     "output_type": "execute_result"
    }
   ],
   "source": [
    "solution([40, 93, 30, 55, 60, 65], [60, 1, 30, 5, 10, 7])"
   ]
  },
  {
   "cell_type": "code",
   "execution_count": 3,
   "metadata": {},
   "outputs": [
    {
     "ename": "NameError",
     "evalue": "name 'answer' is not defined",
     "output_type": "error",
     "traceback": [
      "\u001b[1;31m---------------------------------------------------------------------------\u001b[0m",
      "\u001b[1;31mNameError\u001b[0m                                 Traceback (most recent call last)",
      "\u001b[1;32m<ipython-input-3-b33788c35f07>\u001b[0m in \u001b[0;36m<module>\u001b[1;34m()\u001b[0m\n\u001b[1;32m----> 1\u001b[1;33m \u001b[0manswer\u001b[0m\u001b[1;33m\u001b[0m\u001b[1;33m\u001b[0m\u001b[0m\n\u001b[0m",
      "\u001b[1;31mNameError\u001b[0m: name 'answer' is not defined"
     ]
    }
   ],
   "source": [
    "progresses : [40, 93, 30, 55, 60, 65]\n",
    "speeds : [60, 1, 30, 5 , 10, 7]\n",
    "return : [1,2,3]\n",
    "\n",
    "예제 2)\n",
    "progresses : [93, 30, 55, 60, 40, 65]\n",
    "speeds : [1, 30, 5 , 10, 60, 7]\n",
    "return : [2,4]"
   ]
  },
  {
   "cell_type": "code",
   "execution_count": null,
   "metadata": {},
   "outputs": [],
   "source": []
  }
 ],
 "metadata": {
  "kernelspec": {
   "display_name": "Python 3",
   "language": "python",
   "name": "python3"
  },
  "language_info": {
   "codemirror_mode": {
    "name": "ipython",
    "version": 3
   },
   "file_extension": ".py",
   "mimetype": "text/x-python",
   "name": "python",
   "nbconvert_exporter": "python",
   "pygments_lexer": "ipython3",
   "version": "3.7.6"
  }
 },
 "nbformat": 4,
 "nbformat_minor": 4
}
