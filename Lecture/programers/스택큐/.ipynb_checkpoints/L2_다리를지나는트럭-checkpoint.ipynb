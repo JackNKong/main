{
 "cells": [
  {
   "cell_type": "code",
   "execution_count": 94,
   "metadata": {},
   "outputs": [],
   "source": [
    "#지금 상황에서 빠져나간차 확인\n",
    "def del_test(truck_dic,now_bridge,weight,bridge_length) : \n",
    "    for i,dic in enumerate(truck_dic) :\n",
    "        dic_key = list(dic.keys())[0]\n",
    "        dic_value = list(dic.values())[0]\n",
    "        \n",
    "        if dic_value>=bridge_length and dic_key in now_bridge  :\n",
    "            now_bridge.remove(dic_key)\n",
    "            print(dic_key, \"빠짐\")\n",
    "\n",
    "#새차 넣어도 되는지 확인 후 넣기\n",
    "def new_test(truck_dic,now_bridge,weight) : \n",
    "    corsor = True\n",
    "    for i,dic in enumerate(truck_dic) :\n",
    "        dic_key = list(dic.keys())[0]\n",
    "        dic_value = list(dic.values())[0]\n",
    "        if dic_value==0 :\n",
    "            test_list = now_bridge +[dic_key]\n",
    "            corsor = False\n",
    "            break\n",
    "        \n",
    "    #print(test_list)\n",
    "    if corsor : return now_bridge\n",
    "    \n",
    "    elif sum(test_list) <=weight : \n",
    "        now_bridge = test_list\n",
    "        \"차 추가\"\n",
    "    else :\n",
    "        pass\n",
    "    return now_bridge\n",
    "\n",
    "\n",
    "def one_second(truck_dic,now_bridge) : \n",
    "    for i,dic in enumerate(truck_dic) :\n",
    "        #print(i,dic)\n",
    "        dic_key = list(dic.keys())[0]\n",
    "        if dic_key in now_bridge :\n",
    "            dic[dic_key] +=1\n",
    "    \n",
    "def last_check(truck_dic,bridge_length) : \n",
    "    pass_truck=0\n",
    "    for i,dic in enumerate(truck_dic) : \n",
    "        dic_value = list(dic.values())[0]\n",
    "        if dic_value >=bridge_length :\n",
    "            pass_truck +=1\n",
    "        #else :last_corsor=True\n",
    "        \n",
    "    if pass_truck == len(truck_dic) : return False\n",
    "    else : return True\n",
    "#    return last_corsor\n",
    "        \n",
    "    \n",
    "    \n",
    "def solution(bridge_length, weight, truck_weights):\n",
    "    answer = 0\n",
    "    #truck_weights\n",
    "    truck_dic=[]\n",
    "    for truck in truck_weights:\n",
    "        truck_dic.append({truck:0})\n",
    "    \n",
    "\n",
    "    now_bridge=[]\n",
    "    #첫차 넣기\n",
    "    now_bridge.append(truck_weights[0])\n",
    "    print(truck_dic,now_bridge)\n",
    "    i=0\n",
    "    #1초 시간 경과\n",
    "    check_corsor = True\n",
    "    while i < 10 and check_corsor :\n",
    "        one_second(truck_dic,now_bridge)\n",
    "        del_test(truck_dic,now_bridge,weight,bridge_length)\n",
    "        now_bridge = new_test(truck_dic,now_bridge,weight) \n",
    "\n",
    "        print(truck_dic,now_bridge)\n",
    "        i +=1\n",
    "        check_corsor = last_check(truck_dic,bridge_length)\n",
    "\n",
    "    \n",
    "    return i+1"
   ]
  },
  {
   "cell_type": "code",
   "execution_count": 97,
   "metadata": {},
   "outputs": [
    {
     "name": "stdout",
     "output_type": "stream",
     "text": [
      "[{10: 0}, {10: 0}, {10: 0}, {10: 0}, {10: 0}, {10: 0}, {10: 0}, {10: 0}, {10: 0}, {10: 0}] [10]\n",
      "[{10: 1}, {10: 1}, {10: 1}, {10: 1}, {10: 1}, {10: 1}, {10: 1}, {10: 1}, {10: 1}, {10: 1}] [10]\n",
      "[{10: 2}, {10: 2}, {10: 2}, {10: 2}, {10: 2}, {10: 2}, {10: 2}, {10: 2}, {10: 2}, {10: 2}] [10]\n",
      "[{10: 3}, {10: 3}, {10: 3}, {10: 3}, {10: 3}, {10: 3}, {10: 3}, {10: 3}, {10: 3}, {10: 3}] [10]\n",
      "[{10: 4}, {10: 4}, {10: 4}, {10: 4}, {10: 4}, {10: 4}, {10: 4}, {10: 4}, {10: 4}, {10: 4}] [10]\n",
      "[{10: 5}, {10: 5}, {10: 5}, {10: 5}, {10: 5}, {10: 5}, {10: 5}, {10: 5}, {10: 5}, {10: 5}] [10]\n",
      "[{10: 6}, {10: 6}, {10: 6}, {10: 6}, {10: 6}, {10: 6}, {10: 6}, {10: 6}, {10: 6}, {10: 6}] [10]\n",
      "[{10: 7}, {10: 7}, {10: 7}, {10: 7}, {10: 7}, {10: 7}, {10: 7}, {10: 7}, {10: 7}, {10: 7}] [10]\n",
      "[{10: 8}, {10: 8}, {10: 8}, {10: 8}, {10: 8}, {10: 8}, {10: 8}, {10: 8}, {10: 8}, {10: 8}] [10]\n",
      "[{10: 9}, {10: 9}, {10: 9}, {10: 9}, {10: 9}, {10: 9}, {10: 9}, {10: 9}, {10: 9}, {10: 9}] [10]\n",
      "[{10: 10}, {10: 10}, {10: 10}, {10: 10}, {10: 10}, {10: 10}, {10: 10}, {10: 10}, {10: 10}, {10: 10}] [10]\n"
     ]
    },
    {
     "data": {
      "text/plain": [
       "10"
      ]
     },
     "execution_count": 97,
     "metadata": {},
     "output_type": "execute_result"
    }
   ],
   "source": [
    "solution(100,100,[10,10,10,10,10,10,10,10,10,10]\t)"
   ]
  },
  {
   "cell_type": "code",
   "execution_count": 98,
   "metadata": {},
   "outputs": [
    {
     "ename": "TypeError",
     "evalue": "'tuple' object does not support item assignment",
     "output_type": "error",
     "traceback": [
      "\u001b[1;31m---------------------------------------------------------------------------\u001b[0m",
      "\u001b[1;31mTypeError\u001b[0m                                 Traceback (most recent call last)",
      "\u001b[1;32m<ipython-input-98-68be389cbc40>\u001b[0m in \u001b[0;36m<module>\u001b[1;34m()\u001b[0m\n\u001b[0;32m      2\u001b[0m \u001b[1;32mfor\u001b[0m \u001b[0mi\u001b[0m\u001b[1;33m,\u001b[0m\u001b[0mtup\u001b[0m \u001b[1;32min\u001b[0m \u001b[0menumerate\u001b[0m\u001b[1;33m(\u001b[0m\u001b[0mtruck_tuple\u001b[0m\u001b[1;33m)\u001b[0m \u001b[1;33m:\u001b[0m\u001b[1;33m\u001b[0m\u001b[1;33m\u001b[0m\u001b[0m\n\u001b[0;32m      3\u001b[0m     \u001b[1;32mif\u001b[0m \u001b[0mtup\u001b[0m\u001b[1;33m[\u001b[0m\u001b[1;36m0\u001b[0m\u001b[1;33m]\u001b[0m \u001b[1;32min\u001b[0m \u001b[1;33m[\u001b[0m\u001b[1;36m7\u001b[0m\u001b[1;33m]\u001b[0m \u001b[1;33m:\u001b[0m\u001b[1;33m\u001b[0m\u001b[1;33m\u001b[0m\u001b[0m\n\u001b[1;32m----> 4\u001b[1;33m         \u001b[0mtruck_tuple\u001b[0m\u001b[1;33m[\u001b[0m\u001b[0mi\u001b[0m\u001b[1;33m]\u001b[0m\u001b[1;33m[\u001b[0m\u001b[1;36m1\u001b[0m\u001b[1;33m]\u001b[0m \u001b[1;33m+=\u001b[0m\u001b[1;36m1\u001b[0m\u001b[1;33m\u001b[0m\u001b[1;33m\u001b[0m\u001b[0m\n\u001b[0m",
      "\u001b[1;31mTypeError\u001b[0m: 'tuple' object does not support item assignment"
     ]
    }
   ],
   "source": [
    "truck_tuple = [(7, 0), (4, 0), (5, 0), (6, 0)]\n",
    "for i,tup in enumerate(truck_tuple) :\n",
    "    if tup[0] in [7] :\n",
    "        truck_tuple[i][1] +=1"
   ]
  },
  {
   "cell_type": "code",
   "execution_count": 7,
   "metadata": {},
   "outputs": [
    {
     "data": {
      "text/plain": [
       "0"
      ]
     },
     "execution_count": 7,
     "metadata": {},
     "output_type": "execute_result"
    }
   ],
   "source": [
    "truck_tuple[0][1]\n"
   ]
  },
  {
   "cell_type": "code",
   "execution_count": 25,
   "metadata": {},
   "outputs": [
    {
     "data": {
      "text/plain": [
       "[6, 5]"
      ]
     },
     "execution_count": 25,
     "metadata": {},
     "output_type": "execute_result"
    }
   ],
   "source": [
    "tmp_list"
   ]
  },
  {
   "cell_type": "code",
   "execution_count": 23,
   "metadata": {},
   "outputs": [],
   "source": [
    "dic= {7: 0}"
   ]
  },
  {
   "cell_type": "code",
   "execution_count": 25,
   "metadata": {},
   "outputs": [
    {
     "data": {
      "text/plain": [
       "7"
      ]
     },
     "execution_count": 25,
     "metadata": {},
     "output_type": "execute_result"
    }
   ],
   "source": [
    "list(dic.keys())[0]"
   ]
  },
  {
   "cell_type": "code",
   "execution_count": 37,
   "metadata": {},
   "outputs": [],
   "source": [
    "list_=[1,2,3,4]\n",
    "list_.remove(4)"
   ]
  },
  {
   "cell_type": "code",
   "execution_count": 38,
   "metadata": {},
   "outputs": [
    {
     "data": {
      "text/plain": [
       "[1, 2, 3]"
      ]
     },
     "execution_count": 38,
     "metadata": {},
     "output_type": "execute_result"
    }
   ],
   "source": [
    "list_"
   ]
  },
  {
   "cell_type": "code",
   "execution_count": null,
   "metadata": {},
   "outputs": [],
   "source": []
  }
 ],
 "metadata": {
  "kernelspec": {
   "display_name": "Python 3",
   "language": "python",
   "name": "python3"
  },
  "language_info": {
   "codemirror_mode": {
    "name": "ipython",
    "version": 3
   },
   "file_extension": ".py",
   "mimetype": "text/x-python",
   "name": "python",
   "nbconvert_exporter": "python",
   "pygments_lexer": "ipython3",
   "version": "3.7.6"
  }
 },
 "nbformat": 4,
 "nbformat_minor": 4
}
