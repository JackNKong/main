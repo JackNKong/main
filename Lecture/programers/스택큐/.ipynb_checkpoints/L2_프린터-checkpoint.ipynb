{
 "cells": [
  {
   "cell_type": "code",
   "execution_count": 24,
   "metadata": {},
   "outputs": [],
   "source": [
    "def tuple_sum (list_) :\n",
    "    result =0\n",
    "    for tup in list_ :\n",
    "        result += tup[1]\n",
    "    return result\n",
    "\n",
    "def tuple_max (list_) :\n",
    "    result =0\n",
    "    for tup in list_ :\n",
    "        if tup[1] >result :\n",
    "            result = tup[1]\n",
    "        else : pass\n",
    "    return result\n",
    "\n",
    "\n",
    "def solution(priorities, location):\n",
    "    answer = 0\n",
    "    #priorities.reverse()\n",
    "    new_list = []\n",
    "    for i,prior in enumerate(priorities):\n",
    "        new_list.append((i,prior))\n",
    "    \n",
    "    final_list=[]\n",
    "    while new_list :\n",
    "        now_tuple = new_list[0]\n",
    "        new_list = new_list[1:]\n",
    "        if now_tuple[1] < tuple_max(new_list) : \n",
    "            new_list.append(now_tuple)\n",
    "        else : \n",
    "            final_list.append(now_tuple)\n",
    "            \n",
    "    print(final_list)\n",
    "    for i,final in enumerate(final_list) :\n",
    "        if final[0] == location : return i+1\n",
    "        else : pass\n",
    "#    return final_list"
   ]
  },
  {
   "cell_type": "code",
   "execution_count": 25,
   "metadata": {},
   "outputs": [
    {
     "name": "stdout",
     "output_type": "stream",
     "text": [
      "[(2, 9), (3, 1), (4, 1), (5, 1), (0, 1), (1, 1)]\n"
     ]
    },
    {
     "data": {
      "text/plain": [
       "4"
      ]
     },
     "execution_count": 25,
     "metadata": {},
     "output_type": "execute_result"
    }
   ],
   "source": [
    "solution([1, 1, 9, 1, 1, 1],0)"
   ]
  },
  {
   "cell_type": "code",
   "execution_count": 4,
   "metadata": {},
   "outputs": [],
   "source": [
    "list_.reverse()"
   ]
  },
  {
   "cell_type": "code",
   "execution_count": 11,
   "metadata": {},
   "outputs": [],
   "source": [
    "list_ =[(1,2),(3,4),(5,6),(7,8)] "
   ]
  },
  {
   "cell_type": "code",
   "execution_count": 12,
   "metadata": {},
   "outputs": [
    {
     "data": {
      "text/plain": [
       "7"
      ]
     },
     "execution_count": 12,
     "metadata": {},
     "output_type": "execute_result"
    }
   ],
   "source": [
    "sum(list_[:][1])"
   ]
  },
  {
   "cell_type": "code",
   "execution_count": 13,
   "metadata": {},
   "outputs": [
    {
     "data": {
      "text/plain": [
       "(3, 4)"
      ]
     },
     "execution_count": 13,
     "metadata": {},
     "output_type": "execute_result"
    }
   ],
   "source": [
    "list_[:][1]"
   ]
  },
  {
   "cell_type": "code",
   "execution_count": null,
   "metadata": {},
   "outputs": [],
   "source": [
    "#뭔일임초특가 구만"
   ]
  }
 ],
 "metadata": {
  "kernelspec": {
   "display_name": "Python 3",
   "language": "python",
   "name": "python3"
  },
  "language_info": {
   "codemirror_mode": {
    "name": "ipython",
    "version": 3
   },
   "file_extension": ".py",
   "mimetype": "text/x-python",
   "name": "python",
   "nbconvert_exporter": "python",
   "pygments_lexer": "ipython3",
   "version": "3.7.6"
  }
 },
 "nbformat": 4,
 "nbformat_minor": 4
}
