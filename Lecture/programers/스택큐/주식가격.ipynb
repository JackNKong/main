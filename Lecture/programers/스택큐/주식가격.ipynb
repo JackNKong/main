{
 "cells": [
  {
   "cell_type": "code",
   "execution_count": 1,
   "metadata": {},
   "outputs": [
    {
     "data": {
      "text/plain": [
       "4"
      ]
     },
     "execution_count": 1,
     "metadata": {},
     "output_type": "execute_result"
    }
   ],
   "source": [
    "list_ = [1,2,3,4]\n",
    "list_.pop()"
   ]
  },
  {
   "cell_type": "code",
   "execution_count": 94,
   "metadata": {},
   "outputs": [],
   "source": [
    "def solution(prices):\n",
    "    answer = []\n",
    "    #prices.reverse()\n",
    "    \n",
    "    while len(prices) >1 :\n",
    "        #print(prices)\n",
    "        now_num = prices[0]\n",
    "        next_price = prices[1:]\n",
    "        if now_num <= min(next_price)  : \n",
    "            answer.append(len(next_price))\n",
    "        else :\n",
    "            corsor = True\n",
    "            i=0\n",
    "            index_list =[]\n",
    "            sorted_prices = sorted(prices)\n",
    "            for price in sorted_prices :\n",
    "                if price < now_num : \n",
    "                    index = prices.index(price)\n",
    "                    index_list.append(index)\n",
    "                else : \n",
    "                    break\n",
    "\n",
    "            answer.append(min(index_list))\n",
    "        prices = next_price\n",
    "        \n",
    "    answer.append(0)\n",
    "        \n",
    "    return answer"
   ]
  },
  {
   "cell_type": "code",
   "execution_count": null,
   "metadata": {},
   "outputs": [],
   "source": [
    "#정답 > 괜히 복잡하게 할게 아니라 break를 적당히 잘걸면 됌\n",
    "\n",
    "def solution(prices):\n",
    "    answer = [0] * len(prices)\n",
    "\n",
    "    for i in range(len(prices)-1):\n",
    "        for j in range(i, len(prices)-1):\n",
    "            if prices[i] >prices[j]:\n",
    "                break\n",
    "            else:\n",
    "                answer[i] +=1\n",
    "    return answer"
   ]
  },
  {
   "cell_type": "code",
   "execution_count": null,
   "metadata": {},
   "outputs": [],
   "source": []
  },
  {
   "cell_type": "code",
   "execution_count": null,
   "metadata": {},
   "outputs": [],
   "source": []
  },
  {
   "cell_type": "code",
   "execution_count": 95,
   "metadata": {},
   "outputs": [
    {
     "name": "stdout",
     "output_type": "stream",
     "text": [
      "[5, 4, 1, 2, 1, 0]\n",
      "[5, 4, 1, 2, 1, 0]\n",
      "[3, 1, 1, 2, 1, 0]\n",
      "[3, 1, 1, 2, 1, 0]\n"
     ]
    }
   ],
   "source": [
    "print(solution([1,2,3,2,3,1]))\n",
    "print([5,4,1,2,1,0])\n",
    "\n",
    "print(solution([5, 8, 6, 2, 4, 1]))\n",
    "print([3, 1, 1, 2, 1, 0])"
   ]
  },
  {
   "cell_type": "code",
   "execution_count": 74,
   "metadata": {},
   "outputs": [],
   "source": [
    "list_=[1,2,3,4,5,6]"
   ]
  },
  {
   "cell_type": "code",
   "execution_count": 75,
   "metadata": {},
   "outputs": [
    {
     "data": {
      "text/plain": [
       "1"
      ]
     },
     "execution_count": 75,
     "metadata": {},
     "output_type": "execute_result"
    }
   ],
   "source": [
    "list_.index(2)"
   ]
  },
  {
   "cell_type": "code",
   "execution_count": 93,
   "metadata": {},
   "outputs": [
    {
     "data": {
      "text/plain": [
       "[32, 4, 3, 2, 1, 1]"
      ]
     },
     "execution_count": 93,
     "metadata": {},
     "output_type": "execute_result"
    }
   ],
   "source": [
    "sorted([1,2,3,4,32,1],reverse=True)"
   ]
  },
  {
   "cell_type": "code",
   "execution_count": null,
   "metadata": {},
   "outputs": [],
   "source": []
  }
 ],
 "metadata": {
  "kernelspec": {
   "display_name": "Python 3",
   "language": "python",
   "name": "python3"
  },
  "language_info": {
   "codemirror_mode": {
    "name": "ipython",
    "version": 3
   },
   "file_extension": ".py",
   "mimetype": "text/x-python",
   "name": "python",
   "nbconvert_exporter": "python",
   "pygments_lexer": "ipython3",
   "version": "3.7.6"
  }
 },
 "nbformat": 4,
 "nbformat_minor": 4
}
