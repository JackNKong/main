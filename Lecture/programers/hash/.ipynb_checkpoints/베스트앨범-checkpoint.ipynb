{
 "cells": [
  {
   "cell_type": "code",
   "execution_count": 86,
   "metadata": {},
   "outputs": [],
   "source": [
    "import pandas as pd\n",
    "def solution(genres, plays):\n",
    "    answer = []\n",
    "    datas =[]\n",
    "    hash_list = [hash(i) for i in set(genres)]\n",
    "    result_dic={}\n",
    "    for hash_ in hash_list :\n",
    "        result_dic[hash_] =[]\n",
    "    for i, (a, b) in enumerate(zip(genres,plays)) : \n",
    "        tmp_dic={}\n",
    "        tmp_hash = hash(a)\n",
    "        result_dic[tmp_hash].append((i,b))\n",
    "        \n",
    "    reverse_dic={}\n",
    "    for k,v in result_dic.items() :\n",
    "        sum_=0\n",
    "        for num in v :\n",
    "            sum_ = sum_+num[1]\n",
    "        reverse_dic[sum_] = k\n",
    "    index_dic = sorted(reverse_dic.items(),reverse=True)\n",
    "    \n",
    "    for i in index_dic :\n",
    "        tmp_list = result_dic[i[1]]\n",
    "        tmp_list.sort(key = lambda element : element[1], reverse= True)\n",
    "        #print(tmp_list)\n",
    "        if len(tmp_list) == 1 : \n",
    "            answer.append(tmp_list[0][0])\n",
    "        if len(tmp_list) >= 2 : \n",
    "            answer.append(tmp_list[0][0])\n",
    "            answer.append(tmp_list[1][0])\n",
    "    \n",
    "    return answer"
   ]
  },
  {
   "cell_type": "code",
   "execution_count": 87,
   "metadata": {},
   "outputs": [
    {
     "data": {
      "text/plain": [
       "[5, 1, 4, 7, 3, 0, 6]"
      ]
     },
     "execution_count": 87,
     "metadata": {},
     "output_type": "execute_result"
    }
   ],
   "source": [
    "solution([\"classic\", \"pop\", \"classic\", \"classic\",\"jazz\",\"pop\", \"Rock\", \"jazz\"],[500, 600, 150, 800, 1100, 2500, 100, 1000])"
   ]
  },
  {
   "cell_type": "code",
   "execution_count": 48,
   "metadata": {},
   "outputs": [
    {
     "data": {
      "text/plain": [
       "{1450: 2500858007544804295, 3100: 3473412132085751208}"
      ]
     },
     "execution_count": 48,
     "metadata": {},
     "output_type": "execute_result"
    }
   ],
   "source": [
    "reverse_dic={}\n",
    "for k,v in result_dic.items() :\n",
    "    sum_=0\n",
    "    for num in v :\n",
    "        sum_ = sum_+num[1]\n",
    "    reverse_dic[sum_] = k\n",
    "\n",
    "reverse_dic"
   ]
  },
  {
   "cell_type": "code",
   "execution_count": 54,
   "metadata": {},
   "outputs": [],
   "source": [
    "index_dic = sorted(reverse_dic.items(),reverse=True)"
   ]
  },
  {
   "cell_type": "code",
   "execution_count": 60,
   "metadata": {},
   "outputs": [
    {
     "data": {
      "text/plain": [
       "[(3100, 3473412132085751208), (1450, 2500858007544804295)]"
      ]
     },
     "execution_count": 60,
     "metadata": {},
     "output_type": "execute_result"
    }
   ],
   "source": [
    "index_dic"
   ]
  },
  {
   "cell_type": "code",
   "execution_count": null,
   "metadata": {},
   "outputs": [],
   "source": [
    "[\"classic\", \"pop\", \"classic\", \"classic\",\"jazz\",\"pop\", \"Rock\", \"jazz\"]\n",
    "[500, 600, 150, 800, 1100, 2500, 100, 1000]\n",
    "[5, 1, 4, 7, 3, 0, 6]\n",
    "\n"
   ]
  }
 ],
 "metadata": {
  "kernelspec": {
   "display_name": "Python 3",
   "language": "python",
   "name": "python3"
  },
  "language_info": {
   "codemirror_mode": {
    "name": "ipython",
    "version": 3
   },
   "file_extension": ".py",
   "mimetype": "text/x-python",
   "name": "python",
   "nbconvert_exporter": "python",
   "pygments_lexer": "ipython3",
   "version": "3.7.6"
  }
 },
 "nbformat": 4,
 "nbformat_minor": 4
}
