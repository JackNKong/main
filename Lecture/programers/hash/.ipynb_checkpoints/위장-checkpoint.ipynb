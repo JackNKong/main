{
 "cells": [
  {
   "cell_type": "code",
   "execution_count": 15,
   "metadata": {},
   "outputs": [],
   "source": [
    "def solution(clothes):\n",
    "    answer = 0\n",
    "    answer_dic ={}\n",
    "    for clothe in clothes :\n",
    "        clothe_key = clothe[1]\n",
    "        clothe_nm =clothe[0]\n",
    "        if clothe_key in answer_dic.keys() :\n",
    "            answer_dic[clothe_key].append(clothe_nm)\n",
    "            \n",
    "        else : answer_dic[clothe_key] = [clothe_nm]\n",
    "            \n",
    "    len_list = list(answer_dic.values())\n",
    "    len_list = [len(i) for i in len_list]\n",
    "    result= 1\n",
    "    for len_ in len_list : \n",
    "        result = result* (len_+1)\n",
    "    \n",
    "    \n",
    "    \n",
    "    \n",
    "    return result-1"
   ]
  },
  {
   "cell_type": "code",
   "execution_count": 16,
   "metadata": {},
   "outputs": [],
   "source": [
    "result1 =solution([[\"crow_mask\", \"face\"], [\"blue_sunglasses\", \"face\"], [\"smoky_makeup\", \"face\"]])\n",
    "result2 = solution([[\"yellowhat\", \"headgear\"], [\"bluesunglasses\", \"eyewear\"], [\"green_turban\", \"headgear\"]])\n",
    "result3 = solution([\n",
    "[\"a\",\"aa\"],\n",
    "[\"b\",\"aa\"],\n",
    "[\"c\",\"aa\"],\n",
    "[\"aa\",\"bb\"],\n",
    "[\"bb\",\"bb\"],\n",
    "[\"c_c\",\"bb\"],\n",
    "[\"aaa\",\"cc\"],\n",
    "[\"bbb\",\"cc\"],\n",
    "[\"ccc\",\"cc\"]\n",
    "\n",
    "])"
   ]
  },
  {
   "cell_type": "code",
   "execution_count": 17,
   "metadata": {},
   "outputs": [
    {
     "data": {
      "text/plain": [
       "3"
      ]
     },
     "execution_count": 17,
     "metadata": {},
     "output_type": "execute_result"
    }
   ],
   "source": [
    "result1"
   ]
  },
  {
   "cell_type": "code",
   "execution_count": 18,
   "metadata": {},
   "outputs": [
    {
     "data": {
      "text/plain": [
       "5"
      ]
     },
     "execution_count": 18,
     "metadata": {},
     "output_type": "execute_result"
    }
   ],
   "source": [
    "result2"
   ]
  },
  {
   "cell_type": "code",
   "execution_count": 19,
   "metadata": {},
   "outputs": [
    {
     "data": {
      "text/plain": [
       "63"
      ]
     },
     "execution_count": 19,
     "metadata": {},
     "output_type": "execute_result"
    }
   ],
   "source": [
    "result3"
   ]
  },
  {
   "cell_type": "code",
   "execution_count": null,
   "metadata": {},
   "outputs": [],
   "source": []
  }
 ],
 "metadata": {
  "kernelspec": {
   "display_name": "Python 3",
   "language": "python",
   "name": "python3"
  },
  "language_info": {
   "codemirror_mode": {
    "name": "ipython",
    "version": 3
   },
   "file_extension": ".py",
   "mimetype": "text/x-python",
   "name": "python",
   "nbconvert_exporter": "python",
   "pygments_lexer": "ipython3",
   "version": "3.7.6"
  }
 },
 "nbformat": 4,
 "nbformat_minor": 4
}
