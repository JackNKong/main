{
 "cells": [
  {
   "cell_type": "code",
   "execution_count": 1,
   "metadata": {},
   "outputs": [],
   "source": [
    "import pandas as pd\n",
    "import requests\n",
    "from bs4 import BeautifulSoup as bs\n",
    "import json\n",
    "import numpy as np\n",
    "import datetime\n",
    "import time\n",
    "import sys\n",
    "import os\n",
    "import psycopg2\n",
    "from psycopg2.extras import RealDictCursor\n",
    "\n",
    "def get_data(src_str,basedate,output_file):\n",
    "    startDate = basedate[:6]\n",
    "    endDate = datetime.date.today().strftime('%Y%m')\n",
    "    \n",
    "    headers = {'Referer': 'https://datalab.naver.com/'\n",
    "              ,'User-agent': 'Mozilla/5.0 (Windows NT 10.0; Win64; x64; rv:69.0) Gecko/20100101 Firefox/69.0'}\n",
    "    url = 'http://datalab.naver.com/qcHash.naver'\n",
    "    formdata={'queryGroups': src_str\n",
    "              , 'startDate': startDate, 'endDate': endDate, 'timeUnit': 'week'\n",
    "              , 'gender': '', 'age': '','device': ''}\n",
    "    \n",
    "    r=requests.post(url,headers=headers,data=formdata)\n",
    "    hash_data = json.loads(r.text)\n",
    "    hashKey = hash_data['hashKey']\n",
    "    #print(hash_data)\n",
    "    \n",
    "    trend_url = f'http://datalab.naver.com/keyword/trendResult.naver?hashKey={hashKey}'\n",
    "    #print(trend_url)\n",
    "    r=requests.get(trend_url,headers=headers)\n",
    "    soup = bs(r.text,'lxml')\n",
    "    graph_raw = soup.find('div',id = 'graph_data').get_text()\n",
    "    #graph = json.loads(soup.find('div',id = 'graph_data').get_text())\n",
    "    with open(f'{grp1_path}/{output_file}','a',encoding='utf-8') as f:\n",
    "        f.write(graph_raw+'\\n')\n",
    "    time.sleep(0.5)\n"
   ]
  },
  {
   "cell_type": "code",
   "execution_count": 2,
   "metadata": {},
   "outputs": [
    {
     "name": "stdout",
     "output_type": "stream",
     "text": [
      "20210113\n",
      " | 3225 / 3226 |  /  | 1075    |아파트__SZLIG__아파트__OUML__ "
     ]
    }
   ],
   "source": [
    "df= pd.read_csv('new_keyword_20210112_backdaeun.txt', header=None)\n",
    "rl=df[0].to_list()\n",
    "grp1_path = './result_data/grp_new'\n",
    "total_key_cnt = len(rl)\n",
    "#total_key_cnt=30\n",
    "work_key_cnt = 0\n",
    "\n",
    "cnt=0\n",
    "req_cnt=0\n",
    "basedate='20170102'\n",
    "today=datetime.datetime.now().strftime('%Y%m%d')\n",
    "print(today)\n",
    "output_file=f'keyword_crawling_{today}.txt'\n",
    "src_str='아파트__SZLIG__아파트__OUML__'\n",
    "\n",
    "for i in range(work_key_cnt,total_key_cnt):\n",
    "    #src_str='이월드__SZLIG__이월드__OUML__'\n",
    "    #key_grp=rl[i].decode(\"utf-8\").strip().split(',')\n",
    "    #grp=key_grp[0]\n",
    "    #key=str.lower(key_grp[1])\n",
    "    key=rl[i]\n",
    "    src_str+=key+'__SZLIG__'+key+'__OUML__'\n",
    "    # 키워드 리스트의 마지막 항목 이거나 그룹핑 최대 횟수에 도달할경우 request처리\n",
    "    if i==len(rl)-1 or cnt==3:\n",
    "        #print(src_str)\n",
    "        req_cnt += 1\n",
    "        cnt=0\n",
    "        src_str = src_str[:-8]\n",
    "        #print(work_key_cnt,total_key_cnt,req_cnt,src_str)\n",
    "        get_data(src_str,basedate,output_file)\n",
    "        src_str='아파트__SZLIG__아파트__OUML__'\n",
    "        \n",
    "        sys.stdout.write(f'\\r | {work_key_cnt} / {total_key_cnt} |  /  | {req_cnt}    |{src_str} ')\n",
    "        \n",
    "        sys.stdout.flush()\n",
    "    work_key_cnt +=1\n",
    "    cnt+=1\n"
   ]
  },
  {
   "cell_type": "code",
   "execution_count": null,
   "metadata": {},
   "outputs": [],
   "source": [
    "df[0].to_list"
   ]
  },
  {
   "cell_type": "code",
   "execution_count": 58,
   "metadata": {},
   "outputs": [],
   "source": [
    "try:\n",
    "    conn = psycopg2.connect(host='10.123.184.193', dbname='edw', user='sys', password='eos40d')\n",
    "    cur = conn.cursor(cursor_factory=RealDictCursor)\n",
    "except Exception:\n",
    "    print('Fail to connect DB')\n",
    "    \n",
    "###1st 계산을 위한 존데이터 기준날짜 20191104의 scale조회하기 df2\n",
    "\n",
    "sql = \"select * from sbd.sbds_search_cnt_week where start_date = '20191104'\"\n",
    "cur.execute(sql)\n",
    "result = cur.fetchall()\n",
    "df2 = pd.DataFrame(result)\n",
    "df2=df2.rename(columns={'start_date':'stand_start_date','scale':'stand_scale' })"
   ]
  },
  {
   "cell_type": "code",
   "execution_count": 61,
   "metadata": {},
   "outputs": [],
   "source": [
    "df3=df2[df2['stand_scale']>0]"
   ]
  },
  {
   "cell_type": "code",
   "execution_count": 68,
   "metadata": {},
   "outputs": [],
   "source": [
    "\n",
    "a=df3['stand_scale'].min()\n",
    "b=df3['stand_scale'].max()\n",
    "c=df3['stand_scale'].median()\n",
    "d=df3['stand_scale'].mean()"
   ]
  },
  {
   "cell_type": "code",
   "execution_count": 69,
   "metadata": {},
   "outputs": [
    {
     "data": {
      "text/plain": [
       "(1, 5714805, 178.0, 1164.476865526012)"
      ]
     },
     "execution_count": 69,
     "metadata": {},
     "output_type": "execute_result"
    }
   ],
   "source": [
    "a,b,c,d"
   ]
  },
  {
   "cell_type": "code",
   "execution_count": 79,
   "metadata": {},
   "outputs": [
    {
     "data": {
      "text/html": [
       "<div>\n",
       "<style scoped>\n",
       "    .dataframe tbody tr th:only-of-type {\n",
       "        vertical-align: middle;\n",
       "    }\n",
       "\n",
       "    .dataframe tbody tr th {\n",
       "        vertical-align: top;\n",
       "    }\n",
       "\n",
       "    .dataframe thead th {\n",
       "        text-align: right;\n",
       "    }\n",
       "</style>\n",
       "<table border=\"1\" class=\"dataframe\">\n",
       "  <thead>\n",
       "    <tr style=\"text-align: right;\">\n",
       "      <th></th>\n",
       "      <th>keyword</th>\n",
       "      <th>stand_start_date</th>\n",
       "      <th>end_date</th>\n",
       "      <th>year_month</th>\n",
       "      <th>stand_scale</th>\n",
       "      <th>indate</th>\n",
       "    </tr>\n",
       "  </thead>\n",
       "  <tbody>\n",
       "    <tr>\n",
       "      <th>230915</th>\n",
       "      <td>소</td>\n",
       "      <td>2019-11-04</td>\n",
       "      <td>2019-11-10</td>\n",
       "      <td>201911</td>\n",
       "      <td>5574</td>\n",
       "      <td>2019-11-11</td>\n",
       "    </tr>\n",
       "  </tbody>\n",
       "</table>\n",
       "</div>"
      ],
      "text/plain": [
       "       keyword stand_start_date    end_date year_month  stand_scale  \\\n",
       "230915       소       2019-11-04  2019-11-10     201911         5574   \n",
       "\n",
       "            indate  \n",
       "230915  2019-11-11  "
      ]
     },
     "execution_count": 79,
     "metadata": {},
     "output_type": "execute_result"
    }
   ],
   "source": [
    "df2[df2['keyword']=='소']"
   ]
  },
  {
   "cell_type": "code",
   "execution_count": 87,
   "metadata": {},
   "outputs": [
    {
     "ename": "SyntaxError",
     "evalue": "unexpected EOF while parsing (<ipython-input-87-b3974baea854>, line 1)",
     "output_type": "error",
     "traceback": [
      "\u001b[1;36m  File \u001b[1;32m\"<ipython-input-87-b3974baea854>\"\u001b[1;36m, line \u001b[1;32m1\u001b[0m\n\u001b[1;33m    df2[df2[(['stand_scale']>=10000) and (df2['stand_scale']<=11000) ]\u001b[0m\n\u001b[1;37m                                                                      ^\u001b[0m\n\u001b[1;31mSyntaxError\u001b[0m\u001b[1;31m:\u001b[0m unexpected EOF while parsing\n"
     ]
    }
   ],
   "source": [
    "df2[df2[(['stand_scale']>=10000) and (df2['stand_scale']<=11000)]"
   ]
  },
  {
   "cell_type": "code",
   "execution_count": 92,
   "metadata": {},
   "outputs": [
    {
     "data": {
      "text/plain": [
       "0         False\n",
       "1         False\n",
       "2         False\n",
       "3         False\n",
       "4         False\n",
       "          ...  \n",
       "453412    False\n",
       "453413    False\n",
       "453414    False\n",
       "453415    False\n",
       "453416    False\n",
       "Name: stand_scale, Length: 453417, dtype: bool"
      ]
     },
     "execution_count": 92,
     "metadata": {},
     "output_type": "execute_result"
    }
   ],
   "source": [
    "(df2['stand_scale']>10000) &(df2['stand_scale']<=11000)"
   ]
  },
  {
   "cell_type": "code",
   "execution_count": 94,
   "metadata": {},
   "outputs": [],
   "source": [
    "df4=df2[(df2['stand_scale']>10000) &(df2['stand_scale']<=11000)]"
   ]
  },
  {
   "cell_type": "code",
   "execution_count": 95,
   "metadata": {},
   "outputs": [
    {
     "data": {
      "text/plain": [
       "49              이지아\n",
       "976        영어공부혼자하기\n",
       "2239          남자목폴라\n",
       "2268            알파카\n",
       "2574           한국지도\n",
       "            ...    \n",
       "433431          아파트\n",
       "433668       빈센트반고흐\n",
       "437107           링티\n",
       "445383       표고버섯요리\n",
       "446815    시크릿쥬쥬별의여신\n",
       "Name: keyword, Length: 451, dtype: object"
      ]
     },
     "execution_count": 95,
     "metadata": {},
     "output_type": "execute_result"
    }
   ],
   "source": [
    "df4['keyword']"
   ]
  },
  {
   "cell_type": "code",
   "execution_count": null,
   "metadata": {},
   "outputs": [],
   "source": []
  },
  {
   "cell_type": "code",
   "execution_count": null,
   "metadata": {},
   "outputs": [],
   "source": []
  },
  {
   "cell_type": "code",
   "execution_count": null,
   "metadata": {},
   "outputs": [],
   "source": []
  },
  {
   "cell_type": "code",
   "execution_count": null,
   "metadata": {},
   "outputs": [],
   "source": []
  },
  {
   "cell_type": "code",
   "execution_count": null,
   "metadata": {},
   "outputs": [],
   "source": []
  },
  {
   "cell_type": "code",
   "execution_count": null,
   "metadata": {},
   "outputs": [],
   "source": []
  },
  {
   "cell_type": "code",
   "execution_count": null,
   "metadata": {},
   "outputs": [],
   "source": []
  },
  {
   "cell_type": "code",
   "execution_count": null,
   "metadata": {},
   "outputs": [],
   "source": []
  },
  {
   "cell_type": "code",
   "execution_count": null,
   "metadata": {},
   "outputs": [],
   "source": []
  },
  {
   "cell_type": "code",
   "execution_count": null,
   "metadata": {},
   "outputs": [],
   "source": []
  },
  {
   "cell_type": "code",
   "execution_count": null,
   "metadata": {},
   "outputs": [],
   "source": []
  },
  {
   "cell_type": "code",
   "execution_count": null,
   "metadata": {},
   "outputs": [],
   "source": []
  },
  {
   "cell_type": "code",
   "execution_count": null,
   "metadata": {},
   "outputs": [],
   "source": []
  },
  {
   "cell_type": "code",
   "execution_count": null,
   "metadata": {},
   "outputs": [],
   "source": []
  },
  {
   "cell_type": "code",
   "execution_count": null,
   "metadata": {},
   "outputs": [],
   "source": []
  },
  {
   "cell_type": "code",
   "execution_count": null,
   "metadata": {},
   "outputs": [],
   "source": []
  },
  {
   "cell_type": "code",
   "execution_count": null,
   "metadata": {},
   "outputs": [],
   "source": []
  },
  {
   "cell_type": "code",
   "execution_count": null,
   "metadata": {},
   "outputs": [],
   "source": []
  },
  {
   "cell_type": "code",
   "execution_count": null,
   "metadata": {},
   "outputs": [],
   "source": []
  },
  {
   "cell_type": "code",
   "execution_count": null,
   "metadata": {},
   "outputs": [],
   "source": []
  },
  {
   "cell_type": "code",
   "execution_count": null,
   "metadata": {},
   "outputs": [],
   "source": []
  },
  {
   "cell_type": "code",
   "execution_count": null,
   "metadata": {},
   "outputs": [],
   "source": []
  },
  {
   "cell_type": "code",
   "execution_count": null,
   "metadata": {},
   "outputs": [],
   "source": []
  },
  {
   "cell_type": "code",
   "execution_count": null,
   "metadata": {},
   "outputs": [],
   "source": []
  },
  {
   "cell_type": "code",
   "execution_count": null,
   "metadata": {},
   "outputs": [],
   "source": []
  },
  {
   "cell_type": "code",
   "execution_count": null,
   "metadata": {},
   "outputs": [],
   "source": []
  }
 ],
 "metadata": {
  "kernelspec": {
   "display_name": "Python 3",
   "language": "python",
   "name": "python3"
  },
  "language_info": {
   "codemirror_mode": {
    "name": "ipython",
    "version": 3
   },
   "file_extension": ".py",
   "mimetype": "text/x-python",
   "name": "python",
   "nbconvert_exporter": "python",
   "pygments_lexer": "ipython3",
   "version": "3.7.4"
  }
 },
 "nbformat": 4,
 "nbformat_minor": 4
}
