{
 "cells": [
  {
   "cell_type": "code",
   "execution_count": 5,
   "metadata": {},
   "outputs": [],
   "source": [
    "import requests\n",
    "from bs4 import BeautifulSoup\n",
    "import time\n",
    "import pandas as pd\n",
    "import random\n",
    "import traceback,sys\n"
   ]
  },
  {
   "cell_type": "code",
   "execution_count": 6,
   "metadata": {},
   "outputs": [],
   "source": [
    "#카테고리 추출\n",
    "\n",
    "url = \"https://kr.noxinfluencer.com/instagram-channel-rank/top-100-kr-all-sorted-by-followers-weekly\"\n",
    "res = requests.get(url)"
   ]
  },
  {
   "cell_type": "code",
   "execution_count": 7,
   "metadata": {},
   "outputs": [],
   "source": [
    "soup = BeautifulSoup(res.text, 'html.parser')"
   ]
  },
  {
   "cell_type": "code",
   "execution_count": 16,
   "metadata": {},
   "outputs": [],
   "source": [
    "cate_list = soup.find_all('ul', class_ = 'link-list')[2].find_all('li')"
   ]
  },
  {
   "cell_type": "code",
   "execution_count": 19,
   "metadata": {},
   "outputs": [],
   "source": [
    "url_list = []\n",
    "for cate in cate_list :\n",
    "    tmp_dic={}\n",
    "    tmp_dic['url'] = cate.find('a')['href']\n",
    "    tmp_dic['l_cate_nm'] = cate.text\n",
    "    url_list.append(tmp_dic)\n",
    "    \n",
    "    #cate_list[0]"
   ]
  },
  {
   "cell_type": "code",
   "execution_count": 20,
   "metadata": {},
   "outputs": [
    {
     "data": {
      "text/plain": [
       "[{'l_cate_nm': '게임',\n",
       "  'url': '/instagram-channel-rank/top-100-all-gaming-sorted-by-followers-weekly'},\n",
       " {'l_cate_nm': '엔터테인먼트',\n",
       "  'url': '/instagram-channel-rank/top-100-all-entertainment-sorted-by-followers-weekly'},\n",
       " {'l_cate_nm': '음악',\n",
       "  'url': '/instagram-channel-rank/top-100-all-music-sorted-by-followers-weekly'},\n",
       " {'l_cate_nm': '노하우/스타일',\n",
       "  'url': '/instagram-channel-rank/top-100-all-howto%20%26%20style-sorted-by-followers-weekly'},\n",
       " {'l_cate_nm': '인물/블로그',\n",
       "  'url': '/instagram-channel-rank/top-100-all-people%20%26%20blogs-sorted-by-followers-weekly'},\n",
       " {'l_cate_nm': '스포츠',\n",
       "  'url': '/instagram-channel-rank/top-100-all-sports-sorted-by-followers-weekly'},\n",
       " {'l_cate_nm': '과학기술',\n",
       "  'url': '/instagram-channel-rank/top-100-all-science%20%26%20technology-sorted-by-followers-weekly'},\n",
       " {'l_cate_nm': '프로그램',\n",
       "  'url': '/instagram-channel-rank/top-100-all-shows-sorted-by-followers-weekly'},\n",
       " {'l_cate_nm': '여행/이벤트',\n",
       "  'url': '/instagram-channel-rank/top-100-all-travel%20%26%20events-sorted-by-followers-weekly'}]"
      ]
     },
     "execution_count": 20,
     "metadata": {},
     "output_type": "execute_result"
    }
   ],
   "source": [
    "url_list"
   ]
  },
  {
   "cell_type": "code",
   "execution_count": null,
   "metadata": {},
   "outputs": [],
   "source": []
  },
  {
   "cell_type": "code",
   "execution_count": null,
   "metadata": {},
   "outputs": [],
   "source": []
  },
  {
   "cell_type": "code",
   "execution_count": null,
   "metadata": {},
   "outputs": [],
   "source": []
  },
  {
   "cell_type": "code",
   "execution_count": null,
   "metadata": {},
   "outputs": [],
   "source": []
  },
  {
   "cell_type": "code",
   "execution_count": null,
   "metadata": {},
   "outputs": [],
   "source": []
  },
  {
   "cell_type": "code",
   "execution_count": null,
   "metadata": {},
   "outputs": [],
   "source": []
  },
  {
   "cell_type": "code",
   "execution_count": null,
   "metadata": {},
   "outputs": [],
   "source": []
  }
 ],
 "metadata": {
  "kernelspec": {
   "display_name": "Python 3",
   "language": "python",
   "name": "python3"
  },
  "language_info": {
   "codemirror_mode": {
    "name": "ipython",
    "version": 3
   },
   "file_extension": ".py",
   "mimetype": "text/x-python",
   "name": "python",
   "nbconvert_exporter": "python",
   "pygments_lexer": "ipython3",
   "version": "3.7.6"
  }
 },
 "nbformat": 4,
 "nbformat_minor": 4
}
