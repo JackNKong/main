{
 "cells": [
  {
   "cell_type": "code",
   "execution_count": 1,
   "metadata": {},
   "outputs": [],
   "source": [
    "import requests\n",
    "from bs4 import BeautifulSoup\n",
    "import sys\n",
    "import pandas as pd\n",
    "import time,random\n",
    "import json\n",
    "import datetime\n",
    "headers = {\n",
    "'Accept': 'text/html,application/xhtml+xml,application/xml;q=0.9,image/avif,image/webp,image/apng,*/*;q=0.8,application/signed-exchange;v=b3;q=0.9',\n",
    "'Accept-Encoding': 'gzip, deflate',\n",
    "'Accept-Language': 'ko-KR,ko;q=0.9,en-US;q=0.8,en;q=0.7',\n",
    "'Connection': 'keep-alive',\n",
    "'Cookie': 'ipmsperf_uuid=-3462900230048563768; ccsession=202105241319040000374b374b91b5; _KONEPS_PAGE=%3C%21%23%25%3EtbidListUrl%3C%40%25%7E%3E%2Fep%2Ftbid%2FtbidList.do%3Farea%3D%26bidNm%3D%26bidSearchType%3D1%26fromBidDt%3D2021%252F05%252F24%26fromOpenBidDt%3D%26instNm%3D%26radOrgan%3D1%26regYn%3DY%26searchDtType%3D1%26searchType%3D1%26taskClCds%3D%26toBidDt%3D2021%252F05%252F24%26toOpenBidDt%3D; JSESSIONID=5WPTgrpLSHXbn9mLQ6LGkQvFB50rkhFyLzXxpTyy8pJHQG1LHxMp!1373003672',\n",
    "'Host': 'www.g2b.go.kr:8101',\n",
    "'Referer': 'http://www.g2b.go.kr/pt/menu/frameTgong.do?url=http://www.g2b.go.kr:8101/ep/tbid/tbidList.do?taskClCds=&bidNm=&searchDtType=1&fromBidDt=2021/04/24&toBidDt=2021/05/24&fromOpenBidDt=&toOpenBidDt=&radOrgan=1&instNm=&area=&regYn=Y&bidSearchType=1&searchType=1',\n",
    "'Upgrade-Insecure-Requests': '1',\n",
    "'User-Agent': 'Mozilla/5.0 (Windows NT 10.0; Win64; x64) AppleWebKit/537.36 (KHTML, like Gecko) Chrome/86.0.4240.272 Whale/2.9.117.22 Safari/537.36',\n",
    "}\n",
    "\n"
   ]
  },
  {
   "cell_type": "code",
   "execution_count": 2,
   "metadata": {},
   "outputs": [
    {
     "data": {
      "text/plain": [
       "47"
      ]
     },
     "execution_count": 2,
     "metadata": {},
     "output_type": "execute_result"
    }
   ],
   "source": [
    "###startdate/end_date 뽑기\n",
    "#from datetime import date, timedelta\n",
    "import datetime\n",
    "monday_list=[]\n",
    "start_end_list = []\n",
    "#yearmonday_list=[[2017,1,2],[2018,1,1],[2019,1,7],[2020,1,6],[2021,1,4]]\n",
    "yearmonday_list=[[2020,8,3],[2021,1,4],[2022,1,3],[2023,1,2],[2024,1,1]]\n",
    "for yearmon in yearmonday_list:\n",
    "    year = yearmon[0]\n",
    "    date_object = datetime.date(year, yearmon[1], yearmon[2])\n",
    "    date_object += datetime.timedelta(days=1-date_object.isoweekday())\n",
    "    \n",
    "    while date_object.year == year:\n",
    "        #print(date_object.strftime(\"%Y%m%d\"))\n",
    "        monday_list.append(date_object.strftime(\"%Y%m%d\"))\n",
    "        date_object += datetime.timedelta(days=7)\n",
    "        \n",
    "for date_ in monday_list : \n",
    "    #print(date)\n",
    "    w_date = datetime.datetime.now().strftime(\"%Y%m%d\")\n",
    "    return_start_date_tmp = datetime.datetime.strptime(date_, '%Y%m%d') ###수정\n",
    "    return_start_date=datetime.datetime.strftime(return_start_date_tmp,'%Y%m%d')\n",
    "    return_end_date = return_start_date_tmp + datetime.timedelta(days=6)\n",
    "    return_end_date=datetime.datetime.strftime(return_end_date,'%Y%m%d')\n",
    "    date_scale = return_start_date+\"_scale\"\n",
    "    if return_end_date < w_date:\n",
    "        start_end_list.append((return_start_date,return_end_date))\n",
    "    else : pass\n",
    "    #print(return_start_date,return_end_date)stand_scale\n",
    "len(start_end_list[:])"
   ]
  },
  {
   "cell_type": "code",
   "execution_count": 3,
   "metadata": {},
   "outputs": [
    {
     "name": "stdout",
     "output_type": "stream",
     "text": [
      "2021 06 21\n",
      "2021 06 27\n"
     ]
    }
   ],
   "source": [
    "last_mon_day = start_end_list[-1][0]\n",
    "last_sun_day = start_end_list[-1][1]\n",
    "\n",
    "last_mon_y =  last_mon_day[:4]\n",
    "last_sun_y =  last_sun_day[:4]\n",
    "last_mon_m =  last_mon_day[4:6]\n",
    "last_sun_m =  last_sun_day[4:6]\n",
    "last_mon_d =  last_mon_day[6:]\n",
    "last_sun_d =  last_sun_day[6:]\n",
    "print(last_mon_y,last_mon_m,last_mon_d )\n",
    "print(last_sun_y,last_sun_m,last_sun_d )"
   ]
  },
  {
   "cell_type": "code",
   "execution_count": 4,
   "metadata": {},
   "outputs": [
    {
     "name": "stdout",
     "output_type": "stream",
     "text": [
      "http://www.g2b.go.kr:8101/ep/tbid/tbidList.do?area=&bidNm=&bidSearchType=1&currentPageNo=323&fromBidDt=2021%2F06%2F21&fromOpenBidDt=&instNm=&maxPageViewNoByWshan=323&radOrgan=1&regYn=Y&searchDtType=1&searchType=1&taskClCds=&toBidDt=2021%2F06%2F27&toOpenBidDt=&제외 323\n",
      "http://www.g2b.go.kr:8101/ep/tbid/tbidList.do?area=&bidNm=&bidSearchType=1&currentPageNo=993&fromBidDt=2021%2F06%2F21&fromOpenBidDt=&instNm=&maxPageViewNoByWshan=993&radOrgan=1&regYn=Y&searchDtType=1&searchType=1&taskClCds=&toBidDt=2021%2F06%2F27&toOpenBidDt=&제외 993\n",
      "http://www.g2b.go.kr:8101/ep/tbid/tbidList.do?area=&bidNm=&bidSearchType=1&currentPageNo=994&fromBidDt=2021%2F06%2F21&fromOpenBidDt=&instNm=&maxPageViewNoByWshan=994&radOrgan=1&regYn=Y&searchDtType=1&searchType=1&taskClCds=&toBidDt=2021%2F06%2F27&toOpenBidDt=&제외 994\n",
      "http://www.g2b.go.kr:8101/ep/tbid/tbidList.do?area=&bidNm=&bidSearchType=1&currentPageNo=995&fromBidDt=2021%2F06%2F21&fromOpenBidDt=&instNm=&maxPageViewNoByWshan=995&radOrgan=1&regYn=Y&searchDtType=1&searchType=1&taskClCds=&toBidDt=2021%2F06%2F27&toOpenBidDt=&제외 995\n",
      "http://www.g2b.go.kr:8101/ep/tbid/tbidList.do?area=&bidNm=&bidSearchType=1&currentPageNo=996&fromBidDt=2021%2F06%2F21&fromOpenBidDt=&instNm=&maxPageViewNoByWshan=996&radOrgan=1&regYn=Y&searchDtType=1&searchType=1&taskClCds=&toBidDt=2021%2F06%2F27&toOpenBidDt=&제외 996\n"
     ]
    }
   ],
   "source": [
    "\n",
    "page_num = 1\n",
    "corsor =True\n",
    "datas=[]\n",
    "final_num = 0\n",
    "\n",
    "\n",
    "\n",
    "\n",
    "\n",
    "while corsor :\n",
    "    #print(page_num)\n",
    "    url =f'http://www.g2b.go.kr:8101/ep/tbid/tbidList.do?area=&bidNm=&bidSearchType=1&currentPageNo={page_num}&fromBidDt={last_mon_y}%2F{last_mon_m}%2F{last_mon_d}&fromOpenBidDt=&instNm=&maxPageViewNoByWshan={page_num}&radOrgan=1&regYn=Y&searchDtType=1&searchType=1&taskClCds=&toBidDt={last_sun_y}%2F{last_sun_m}%2F{last_sun_d}&toOpenBidDt=&'\n",
    "    sys.stdout.write(f'\\r{url}')\n",
    "    sys.stdout.flush()\n",
    "    res = requests.get(url, headers= headers)\n",
    "    if res.status_code ==200 :\n",
    "        soup = BeautifulSoup(res.text, 'html.parser')\n",
    "        item_list = soup.find('tbody').find_all('tr')\n",
    "        #item_list[0]\n",
    "       \n",
    "        for item in item_list : \n",
    "            tmp_dic={}\n",
    "            tl_list = item.find_all('td', class_='tl')\n",
    "            td_list = item.find_all('td')\n",
    "            #print(tl_list)\n",
    "            if len(tl_list) == 4 :\n",
    "                tmp_dic['cate_nm'] = td_list[0].text\n",
    "                tmp_dic['content_cd']= td_list[1].text\n",
    "                tmp_dic['cate_nm2']= td_list[2].text\n",
    "                tmp_dic['title_nm'] = tl_list[0].text\n",
    "                tmp_dic['gover_nm'] = tl_list[1].text +'/' + tl_list[2].text\n",
    "                tmp_dic['method'] = tl_list[3].text\n",
    "                tmp_dic['due_date'] = item.find('td', class_='tc').text\n",
    "                tmp_dic['url'] = item.find('a')['href']\n",
    "                #datas.append(tmp_dic)\n",
    "                js = json.dumps(tmp_dic)\n",
    "                with open(f'./result/narajanteo_{last_mon_day}_{last_sun_day}.jl','a') as f:\n",
    "                    f.write(js+'\\n')\n",
    "                \n",
    "            else :\n",
    "                print('제외',page_num)\n",
    "                final_num +=1\n",
    "        \n",
    "        page_num+=1\n",
    "        if final_num ==5 :\n",
    "            corsor = False\n",
    "    else : corsor = False\n",
    "    time.sleep(1)\n",
    "#df = pd.DataFrame(datas)\n"
   ]
  },
  {
   "cell_type": "code",
   "execution_count": 6,
   "metadata": {},
   "outputs": [],
   "source": [
    "df=pd.read_json(f'./result/narajanteo_{last_mon_day}_{last_sun_day}.jl',lines=True)\n",
    "df.to_excel(f'./result/narajanteo_{last_mon_day}_{last_sun_day}.xlsx',encoding='cp949',index= False)"
   ]
  },
  {
   "cell_type": "code",
   "execution_count": null,
   "metadata": {},
   "outputs": [],
   "source": [
    "df"
   ]
  },
  {
   "cell_type": "code",
   "execution_count": 27,
   "metadata": {},
   "outputs": [],
   "source": [
    "df.to_excel('narajangteo_20210610_20210617.xlsx',encoding='cp949')"
   ]
  },
  {
   "cell_type": "code",
   "execution_count": null,
   "metadata": {},
   "outputs": [],
   "source": []
  }
 ],
 "metadata": {
  "kernelspec": {
   "display_name": "Python 3",
   "language": "python",
   "name": "python3"
  },
  "language_info": {
   "codemirror_mode": {
    "name": "ipython",
    "version": 3
   },
   "file_extension": ".py",
   "mimetype": "text/x-python",
   "name": "python",
   "nbconvert_exporter": "python",
   "pygments_lexer": "ipython3",
   "version": "3.7.6"
  }
 },
 "nbformat": 4,
 "nbformat_minor": 4
}
