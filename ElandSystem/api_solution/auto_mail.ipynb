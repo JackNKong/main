{
 "cells": [
  {
   "cell_type": "code",
   "execution_count": 18,
   "metadata": {},
   "outputs": [],
   "source": [
    "from email.mime.text import MIMEText\n",
    "from email.mime.multipart import MIMEMultipart\n",
    "import smtplib\n",
    "# SMTP 접속을 위한 서버, 계정 설정\n",
    "SMTP_SERVER = \"smtp.gmail.com\"\n",
    "SMTP_PORT = 465\n",
    "# 보내는 메일 계정\n",
    "SMTP_USER = \"####\"\n",
    "SMTP_PASSWORD = \"####\"\n",
    "# 이메일 유효성 검사 함수\n",
    "def is_valid(addr):\n",
    "    import re\n",
    "    if re.match('(^[a-zA-Z-0-9_.+-]+@[a-zA-Z0-9-]+\\.[a-zA-Z0-9-.]+$)', addr):\n",
    "        return True\n",
    "    else:\n",
    "        return False\n",
    "# 이메일 보내기 함수\n",
    "def send_mail(addr, subj_layout, cont_layout, attachment=None):\n",
    "    if not is_valid(addr):\n",
    "        print(\"Wrong email: \" + addr)\n",
    "        return\n",
    "    \n",
    "    # 텍스트 파일\n",
    "    msg = MIMEMultipart(\"alternative\")\n",
    "    # 첨부파일이 있는 경우 mixed로 multipart 생성\n",
    "    if attachment:\n",
    "        msg = MIMEMultipart('mixed')\n",
    "    msg[\"From\"] = SMTP_USER\n",
    "    msg[\"To\"] = addr\n",
    "    msg[\"Subject\"] = subj_layout\n",
    "    contents = cont_layout\n",
    "    text = MIMEText(_text = contents, _charset = \"utf-8\")\n",
    "    msg.attach(text)\n",
    "    # 첨부파일이 있으면\n",
    "    if attachment:\n",
    "        from email.mime.base import MIMEBase\n",
    "        from email import encoders\n",
    "        file_data = MIMEBase(\"application\", \"octect-stream\")\n",
    "        file_data.set_payload(open(attachment, \"rb\").read())\n",
    "        encoders.encode_base64(file_data)\n",
    "        import os\n",
    "        filename = os.path.basename(attachment)\n",
    "        file_data.add_header(\"Content-Disposition\", 'attachment', filename=('UTF-8', '', filename))\n",
    "        msg.attach(file_data)\n",
    "    # smtp로 접속할 서버 정보를 가진 클래스변수 생성\n",
    "    smtp = smtplib.SMTP_SSL(SMTP_SERVER, SMTP_PORT)\n",
    "    # 해당 서버로 로그인\n",
    "    smtp.login(SMTP_USER, SMTP_PASSWORD)\n",
    "    # 메일 발송\n",
    "    smtp.sendmail(SMTP_USER, addr, msg.as_string())\n",
    "    # 닫기\n",
    "    smtp.close()"
   ]
  },
  {
   "cell_type": "code",
   "execution_count": 19,
   "metadata": {},
   "outputs": [],
   "source": [
    "send_mail('#####@elandsystems.com','타이틀',\"메일드립니다.\",f'베스트상품_{w_date}.xlsx')"
   ]
  }
 ],
 "metadata": {
  "kernelspec": {
   "display_name": "Python 3",
   "language": "python",
   "name": "python3"
  },
  "language_info": {
   "codemirror_mode": {
    "name": "ipython",
    "version": 3
   },
   "file_extension": ".py",
   "mimetype": "text/x-python",
   "name": "python",
   "nbconvert_exporter": "python",
   "pygments_lexer": "ipython3",
   "version": "3.7.6"
  }
 },
 "nbformat": 4,
 "nbformat_minor": 4
}
